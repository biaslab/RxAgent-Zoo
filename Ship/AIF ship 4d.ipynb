{
 "cells": [
  {
   "cell_type": "markdown",
   "id": "37d090e8",
   "metadata": {},
   "source": [
    "# Active Inference Ship navigation"
   ]
  },
  {
   "cell_type": "markdown",
   "id": "c8840415",
   "metadata": {},
   "source": [
    "This notebooks covers fundamentals of the Active Inference framework implemented with the Bethe Free Energy optimisation with message passing on factor graphs. We use the mountain car problem as an example.\n",
    "\n",
    "- We refer reader to the [Thijs van de Laar (2019) \"Simulating active inference processes by message passing\"](https://doi.org/10.3389/frobt.2019.00020) original paper with more in-depth overview and explanation of the active inference agent implementation by message passing.\n",
    "- The original environment/task description is from [Ueltzhoeffer (2017) \"Deep active inference\"](https://arxiv.org/abs/1709.02341)."
   ]
  },
  {
   "cell_type": "code",
   "execution_count": 779,
   "id": "c3b0c692",
   "metadata": {},
   "outputs": [
    {
     "name": "stderr",
     "output_type": "stream",
     "text": [
<<<<<<< Updated upstream
      "\u001b[32m\u001b[1m  Activating\u001b[22m\u001b[39m project at `~/Documents/GitHub/RxInfer.jl/examples`\n"
=======
      "\u001b[32m\u001b[1m  Activating\u001b[22m\u001b[39m project at `~/Documents/GitHub/Focus-group-control/Ship`\n",
      "\u001b[32m\u001b[1m   Installed\u001b[22m\u001b[39m LazyArrays ─ v0.22.17\n",
      "\u001b[32m\u001b[1m   Installed\u001b[22m\u001b[39m DomainSets ─ v0.6.5\n",
      "\u001b[32m\u001b[1m   Installed\u001b[22m\u001b[39m Plots ────── v1.38.8\n",
      "\u001b[32m\u001b[1mPrecompiling\u001b[22m\u001b[39m project...\n",
      "\u001b[32m  ✓ \u001b[39m\u001b[90mDomainSets\u001b[39m\n",
      "\u001b[32m  ✓ \u001b[39m\u001b[90mLazyArrays\u001b[39m\n",
      "\u001b[32m  ✓ \u001b[39m\u001b[90mDomainIntegrals\u001b[39m\n",
      "\u001b[32m  ✓ \u001b[39m\u001b[90mReactiveMP\u001b[39m\n",
      "\u001b[32m  ✓ \u001b[39mRxInfer\n",
      "\u001b[32m  ✓ \u001b[39mPlots\n",
      "  6 dependencies successfully precompiled in 36 seconds (193 already precompiled)\n"
>>>>>>> Stashed changes
     ]
    }
   ],
   "source": [
    "import Pkg; Pkg.activate(\".\"); Pkg.instantiate();"
   ]
  },
  {
   "cell_type": "code",
<<<<<<< Updated upstream
   "execution_count": 780,
=======
   "execution_count": 2,
>>>>>>> Stashed changes
   "id": "b301ff1d",
   "metadata": {},
   "outputs": [],
   "source": [
    "using RxInfer, Plots"
   ]
  },
  {
   "cell_type": "markdown",
   "id": "dcac307f",
   "metadata": {},
   "source": [
    "## The mountain and physics \n",
    "\n",
    "For the purpose of this example we create a simple mountain valley with hard-coded physics, such that we do not depend on any external complex library. We have several configurable parameters for the experiment:\n",
    "- Engine-force limit\n",
    "- Tires friction coefficient"
   ]
  },
  {
   "cell_type": "code",
<<<<<<< Updated upstream
   "execution_count": 781,
=======
   "execution_count": 3,
>>>>>>> Stashed changes
   "id": "1118c8f0",
   "metadata": {},
   "outputs": [
    {
     "data": {
      "text/plain": [
       "ship_dynamic (generic function with 2 methods)"
      ]
     },
<<<<<<< Updated upstream
=======
     "execution_count": 3,
>>>>>>> Stashed changes
     "metadata": {},
     "output_type": "display_data"
    }
   ],
   "source": [
    "#We need control rudder and accelerator for turning and accelerate. But at first, we only consider turning rate\n",
    "function ship_dynamic(engine_force_limit=0.1)\n",
    "    B =[ 0.0,0.0,1.0,0.0 ]\n",
    "    turning_rate=(a::Real) -> begin\n",
    "        B*engine_force_limit*tanh(a)\n",
    "    end\n",
    "    return (turning_rate)\n",
    "end"
   ]
  },
  {
   "cell_type": "code",
<<<<<<< Updated upstream
   "execution_count": 782,
=======
   "execution_count": 4,
>>>>>>> Stashed changes
   "id": "2951933a",
   "metadata": {},
   "outputs": [
    {
     "data": {
      "text/plain": [
       "#1244 (generic function with 1 method)"
      ]
     },
<<<<<<< Updated upstream
=======
     "execution_count": 4,
>>>>>>> Stashed changes
     "metadata": {},
     "output_type": "display_data"
    }
   ],
   "source": [
    "turning_rate=ship_dynamic(\n",
    ")"
   ]
  },
  {
   "cell_type": "code",
<<<<<<< Updated upstream
   "execution_count": 783,
=======
   "execution_count": 5,
>>>>>>> Stashed changes
   "id": "531783b6",
   "metadata": {},
   "outputs": [
    {
     "data": {
      "text/plain": [
       "4-element Vector{Float64}:\n",
       " -0.0\n",
       "  0.0\n",
       " -0.1\n",
       "  3.0"
      ]
     },
<<<<<<< Updated upstream
=======
     "execution_count": 5,
>>>>>>> Stashed changes
     "metadata": {},
     "output_type": "display_data"
    }
   ],
   "source": [
    "initial_position = [-0.0,0.0,-0.1,3.0]"
   ]
  },
  {
   "cell_type": "code",
<<<<<<< Updated upstream
   "execution_count": 784,
=======
   "execution_count": 6,
>>>>>>> Stashed changes
   "id": "8b8b8fa0",
   "metadata": {},
   "outputs": [
    {
     "data": {
      "text/plain": [
       "getAFromState (generic function with 1 method)"
      ]
     },
<<<<<<< Updated upstream
=======
     "execution_count": 6,
>>>>>>> Stashed changes
     "metadata": {},
     "output_type": "display_data"
    }
   ],
   "source": [
    "function getAFromState(x,δt)\n",
    "    A=zeros(4)\n",
    "    A[1]=x[4]*cos(x[3])*δt\n",
    "    A[2]=x[4]*sin(x[3])*δt\n",
    "    return A\n",
    "end"
   ]
  },
  {
   "cell_type": "code",
<<<<<<< Updated upstream
   "execution_count": 785,
=======
   "execution_count": 7,
>>>>>>> Stashed changes
   "id": "45da3a68",
   "metadata": {},
   "outputs": [
    {
     "data": {
      "text/plain": [
       "4-element Vector{Float64}:\n",
       "  2.9850124958340776\n",
       " -0.29950024994048446\n",
       "  0.0\n",
       "  0.0"
      ]
     },
<<<<<<< Updated upstream
=======
     "execution_count": 7,
>>>>>>> Stashed changes
     "metadata": {},
     "output_type": "display_data"
    }
   ],
   "source": [
    "getAFromState(initial_position,1)"
   ]
  },
  {
   "cell_type": "markdown",
   "id": "ae812643",
   "metadata": {},
   "source": [
    "# World - agent interaction\n",
    "\n",
    "Because the states of the world are unknown to the agent, we wrap them in a comprehension. The comprehension returns only the functions for interacting with the world and not the hidden states. This way, we introduce a stateful world whose states cannot be directly observed."
   ]
  },
  {
   "cell_type": "code",
<<<<<<< Updated upstream
   "execution_count": 786,
=======
   "execution_count": 8,
>>>>>>> Stashed changes
   "id": "51b8c099",
   "metadata": {},
   "outputs": [
    {
     "data": {
      "text/plain": [
       "create_world (generic function with 1 method)"
      ]
     },
<<<<<<< Updated upstream
=======
     "execution_count": 8,
>>>>>>> Stashed changes
     "metadata": {},
     "output_type": "display_data"
    }
   ],
   "source": [
    "function create_world(;turning_rate, initial_position = [0.5,0.5,0.1,3.0])\n",
    "\n",
    "    y_t_min = initial_position\n",
    "    # y_dot_t_min = initial_velocity\n",
    "    \n",
    "    y_t = y_t_min\n",
    "    # y_dot_t = y_dot_t_min\n",
    "    \n",
    "    execute = (rudder::Float64) -> begin\n",
    "        # Compute next state\n",
    "        \n",
    "\n",
    "\n",
    "        # y_dot_t = y_dot_t_min + Fg(y_t_min) + Ff(y_dot_t_min) + Fa(a_t)\n",
    "        # y_dot_t = getAFromState() + Fg(y_t_min) + Ff(y_dot_t_min) + Fa(a_t)\n",
    "        y_t = getAFromState(y_t_min,1) + y_t_min + turning_rate(rudder)\n",
    "    \n",
    "        # Reset state for next step\n",
    "        y_t_min = y_t\n",
    "        # y_dot_t_min = y_dot_t\n",
    "    end\n",
    "    \n",
    "    observe = () -> begin \n",
    "        return y_t\n",
    "    end\n",
    "        \n",
    "    return (execute, observe)\n",
    "end"
   ]
  },
  {
   "cell_type": "markdown",
   "id": "31e3ca36",
   "metadata": {},
   "source": [
    "## Naive approach\n",
    "\n",
    "In this simulation we are going to perform a naive action policy for tight full-power only. In this case, with limited engine power, the agent should not be able to achieve its goal:"
   ]
  },
  {
   "cell_type": "code",
<<<<<<< Updated upstream
   "execution_count": 787,
   "id": "bbd21a58",
   "metadata": {},
   "outputs": [],
=======
   "execution_count": 9,
   "id": "bbd21a58",
   "metadata": {},
   "outputs": [
    {
     "data": {
      "text/html": [
       "<img src=\"data:image/gif;base64,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\" />"
      ],
      "text/plain": [
       "Plots.AnimatedGif(\"/Users/jia/Documents/GitHub/Focus-group-control/Ship/figures/shipnav-naive.gif\")"
      ]
     },
     "execution_count": 9,
     "metadata": {},
     "output_type": "execute_result"
    }
   ],
>>>>>>> Stashed changes
   "source": [
    "N_naive  = 100 # Total simulation time\n",
    "pi_naive = 0.1 # Naive policy for right full-power only\n",
    "\n",
    "# Let there be a world\n",
    "(execute_naive, observe_naive) = create_world(; \n",
    "turning_rate = turning_rate,\n",
    "    initial_position = initial_position, \n",
    ");\n",
    "\n",
    "y_naive = Vector{Vector{Float64}}(undef, N_naive)\n",
    "for t = 1:N_naive\n",
    "    execute_naive(pi_naive) # Execute environmental process\n",
    "    y_naive[t] = observe_naive() # Observe external states\n",
    "end\n",
    "\n",
    "x_target=[100.0,100.0,0.0*π,3.0]\n",
    "\n",
    "animation_naive = @animate for i in 1:N_naive\n",
    "    # plot(valley_x, valley_y, title = \"Naive policy\", label = \"Landscape\", color = \"black\", size = (800, 400))\n",
    "    # scatter([y_naive[1][1]], [y_naive[1][2]])\n",
    "    # plot(y_naive[1][1],y_naive[1:i][2])\n",
    "    scatter([50], [50],xlims = (-100,100),ylims = (-100,100), label = \"Target\")\n",
    "    scatter!([y_naive[i][1]], [y_naive[i][2]],xlims = (-100,100),ylims = (-100,100),label = \"ship\")\n",
    "    plot!([y_naive[i][1],y_naive[i][1]+2*y_naive[i][4]*cos(y_naive[i][3])],[y_naive[i][2],y_naive[i][2]+2*y_naive[i][4]*sin(y_naive[i][3])],arrow=true,color=:black,label=\"\")\n",
    "    \n",
    "    # scatter!([x_target[1]], [height(x_target[1])], label=\"goal\")   \n",
    "end\n",
    "\n",
    "gif(animation_naive, \"./ai-mountain-car-naive3.gif\", fps = 24, show_msg = false);"
   ]
  },
  {
   "cell_type": "markdown",
   "id": "6f1a7393",
   "metadata": {},
   "source": [
    "[](ai-mountain-car-naive.gif)"
   ]
  },
  {
   "cell_type": "markdown",
   "id": "3f48e446",
   "metadata": {},
   "source": [
    "# Active inference approach\n",
    "\n",
    "In the active inference approach we are going to create an agent that models the environment around itself as well as the best possible actions in a probabilistic manner. That should help agent to understand that the brute-force approach is not the most efficient one and hopefully to realise that a little bit of swing is necessary to achieve its goal.\n",
    "\n",
    "The code in the next block defines the agent's internal beliefs over the external dynamics and its probabilistic model of the environment, which correspond accurately by directly using the functions defined above. We use the `@model` macro from `RxInfer` to define the probabilistic model and the `meta` block to define approximation methods for the nonlinear state-transition functions.\n",
    "\n",
    "In the model specification we in addition to the current state of the agent we include the beliefs over its future states (up to `T` steps ahead):"
   ]
  },
  {
   "cell_type": "code",
<<<<<<< Updated upstream
   "execution_count": 788,
=======
   "execution_count": 10,
>>>>>>> Stashed changes
   "id": "5a348e72",
   "metadata": {},
   "outputs": [
    {
     "data": {
      "text/plain": [
       "#1251 (generic function with 1 method)"
      ]
     },
<<<<<<< Updated upstream
=======
     "execution_count": 10,
>>>>>>> Stashed changes
     "metadata": {},
     "output_type": "display_data"
    }
   ],
   "source": [
    "hhh = (u::AbstractVector) -> turning_rate(u[1])"
   ]
  },
  {
   "cell_type": "code",
<<<<<<< Updated upstream
   "execution_count": 789,
=======
   "execution_count": 11,
>>>>>>> Stashed changes
   "id": "69370c85",
   "metadata": {},
   "outputs": [
    {
     "data": {
      "text/plain": [
       "#1244 (generic function with 1 method)"
      ]
     },
<<<<<<< Updated upstream
=======
     "execution_count": 11,
>>>>>>> Stashed changes
     "metadata": {},
     "output_type": "display_data"
    }
   ],
   "source": [
    "turning_rate"
   ]
  },
  {
   "cell_type": "code",
<<<<<<< Updated upstream
   "execution_count": 790,
=======
   "execution_count": 12,
>>>>>>> Stashed changes
   "id": "9c5d7902",
   "metadata": {},
   "outputs": [
    {
     "data": {
      "text/plain": [
       "#1253 (generic function with 1 method)"
      ]
     },
<<<<<<< Updated upstream
=======
     "execution_count": 12,
>>>>>>> Stashed changes
     "metadata": {},
     "output_type": "display_data"
    }
   ],
   "source": [
    "hh = (u::AbstractVector) -> turning_rate(u[1])"
   ]
  },
  {
   "cell_type": "code",
<<<<<<< Updated upstream
   "execution_count": 791,
=======
   "execution_count": 13,
>>>>>>> Stashed changes
   "id": "d0c71ccb",
   "metadata": {},
   "outputs": [],
   "source": [
    "@model function mountain_car(; T,turning_rate)\n",
    "    \n",
    "    # Transition function modeling transition due to gravity and friction\n",
    "    g = (s_t_min::AbstractVector) -> begin \n",
    "        s_t = similar(s_t_min) # Next state\n",
    "        s_t=getAFromState(s_t_min,1.0) + s_t_min\n",
    "        return s_t\n",
    "    end\n",
    "    \n",
    "    # Function for modeling engine control\n",
    "    h = (u::AbstractVector) -> turning_rate(u[1])\n",
    "    \n",
    "    # Inverse engine force, from change in state to corresponding engine force\n",
    "    # h_inv = (delta_s_dot::AbstractVector) -> [atanh(clamp(delta_s_dot[2], -engine_force_limit+1e-3, engine_force_limit-1e-3)/engine_force_limit)] \n",
    "    \n",
    "    # C = constvar([1. 0. 0. 0.;\n",
    "    #               0. 1. 0. 0.])\n",
    "\n",
    "    # Internal model perameters\n",
    "    Gamma = 1e4*diageye(4) # Transition precision\n",
    "    Theta = 1e-4*diageye(4) # Observation variance\n",
    "    \n",
    "    m_s_t_min = datavar(Vector{Float64})\n",
    "    V_s_t_min = datavar(Matrix{Float64})\n",
    "\n",
    "    s_t_min ~ MvNormal(mean = m_s_t_min, cov = V_s_t_min)\n",
    "    s_k_min = s_t_min\n",
    "    \n",
    "    m_u = datavar(Vector{Float64}, T)\n",
    "    V_u = datavar(Matrix{Float64}, T)\n",
    "    \n",
    "    m_x = datavar(Vector{Float64}, T)\n",
    "    V_x = datavar(Matrix{Float64}, T)\n",
    "    \n",
    "    u = randomvar(T)\n",
    "    s = randomvar(T)\n",
    "    x = randomvar(T)\n",
    "    \n",
    "    u_h_k = randomvar(T)\n",
    "    s_g_k = randomvar(T)\n",
    "    u_s_sum = randomvar(T)\n",
    "\n",
    "    for k in 1:T\n",
    "        u[k] ~ MvNormal(mean = m_u[k], cov = V_u[k])\n",
    "        u_h_k[k] ~ h(u[k]) where { meta = DeltaMeta(method = Unscented()) }\n",
    "        s_g_k[k] ~ g(s_k_min) where { meta = DeltaMeta(method = Unscented()) }\n",
    "        u_s_sum[k] ~ s_g_k[k] + u_h_k[k]\n",
    "        s[k] ~ MvNormal(mean = u_s_sum[k], precision = Gamma)\n",
    "        x[k] ~ MvNormal(mean = s[k], cov = Theta)\n",
    "        x[k] ~ MvNormal(mean = m_x[k], cov = V_x[k]) # goal\n",
    "        s_k_min = s[k]\n",
    "    end\n",
    "    \n",
    "    return (s, )\n",
    "end"
   ]
  },
  {
   "cell_type": "markdown",
   "id": "cfa15bc7",
   "metadata": {},
   "source": [
    "Because states of the agent are unknown to the world, we wrap them in a comprehension.\n",
    "The comprehension only returns functions for interacting with the agent.\n",
    "Internal beliefs cannot be directly observed, and interaction is only allowed through the Markov blanket"
   ]
  },
  {
   "cell_type": "code",
<<<<<<< Updated upstream
   "execution_count": 792,
=======
   "execution_count": 14,
>>>>>>> Stashed changes
   "id": "89f81839",
   "metadata": {},
   "outputs": [
    {
     "data": {
      "text/plain": [
       "create_agent (generic function with 1 method)"
      ]
     },
<<<<<<< Updated upstream
=======
     "execution_count": 14,
>>>>>>> Stashed changes
     "metadata": {},
     "output_type": "display_data"
    }
   ],
   "source": [
    "# We are going to use some private functionality from ReactiveMP, \n",
    "# in the future we should expose a proper API for this\n",
    "import RxInfer.ReactiveMP: getrecent, messageout\n",
    "\n",
    "function create_agent(; T = 20, turning_rate, x_target, initial_position)\n",
    "    Epsilon = fill(0.1, 1, 1)                # Control prior variance\n",
    "    m_u = Vector{Float64}[ [ 0.0] for k=1:T ] # Set control priors\n",
    "    V_u = Matrix{Float64}[ Epsilon for k=1:T ]\n",
    "\n",
    "    Sigma    = 1e-4*diageye(4) # Goal prior variance\n",
    "    Sigma[3,3]=1e4\n",
    "    Sigma[4,4]=1e4\n",
    "    m_x      = [zeros(4) for k=1:T]\n",
    "    m_x[end]      = x_target\n",
    "    V_x      = [huge*diageye(4) for k=1:T]\n",
    "    V_x[end] = Sigma # Set prior to reach goal at t=T\n",
    "\n",
    "    # Set initial brain state prior\n",
    "    m_s_t_min = initial_position\n",
    "    V_s_t_min = tiny * diageye(4)\n",
    "    \n",
    "    # Set current inference results\n",
    "    result = nothing\n",
    "    pol = zeros(T)\n",
    "\n",
    "    # The `infer` function is the heart of the agent\n",
    "    # It calls the `RxInfer.inference` function to perform Bayesian inference by message passing\n",
    "    infer = (upsilon_t::Float64, y_hat_t::Vector{Float64}) -> begin\n",
    "        m_u[1] = [ upsilon_t ] # Register action with the generative model\n",
    "        V_u[1] = fill(tiny, 1, 1) # Clamp control prior to performed action\n",
    "\n",
    "        m_x[1] = y_hat_t # Register observation with the generative model\n",
    "        V_x[1] = tiny*diageye(4) # Clamp goal prior to observation\n",
    "\n",
    "        data = Dict(:m_u       => m_u, \n",
    "                    :V_u       => V_u, \n",
    "                    :m_x       => m_x, \n",
    "                    :V_x       => V_x,\n",
    "                    :m_s_t_min => m_s_t_min,\n",
    "                    :V_s_t_min => V_s_t_min)\n",
    "        \n",
    "        model  = mountain_car(; T = T, turning_rate) \n",
    "        result = inference(model = model, data = data)\n",
    "        # pol = [mode(result.posteriors[:u][k])[1] for k=1:T]\n",
    "    end\n",
    "    \n",
    "    # The `act` function returns the inferred best possible action\n",
    "    # act() = pol[1]\n",
    "    \n",
    "    act = () -> begin\n",
    "        if result !== nothing\n",
    "            return mode(result.posteriors[:u][3])[1] ##\n",
    "        else\n",
    "            return 0.0 # Without inference result we return some 'random' action\n",
    "        end\n",
    "    end\n",
    "    \n",
    "    # The `future` function returns the inferred future states\n",
    "    future = () -> begin \n",
    "        if result !== nothing \n",
    "            return getindex.(mode.(result.posteriors[:s]), 1)\n",
    "        else\n",
    "            return zeros(T)\n",
    "        end\n",
    "    end\n",
    "\n",
    "    # The `slide` function modifies the `(m_s_t_min, V_s_t_min)` for the next step\n",
    "    # and shifts (or slides) the array of future goals `(m_x, V_x)` and inferred actions `(m_u, V_u)`\n",
    "    slide = () -> \n",
    "        (s, ) = result.returnval\n",
    "        \n",
    "        slide_msg_idx = 3 # This index is model dependend\n",
    "        (m_s_t_min, V_s_t_min) = mean_cov(getrecent(messageout(s[2], slide_msg_idx)))\n",
    "\n",
    "        m_u = circshift(m_u, -1)\n",
    "        m_u[end] = [0.0]\n",
    "        # m_u = pol\n",
    "        V_u = circshift(V_u, -1)\n",
    "        V_u[end] = Epsilon\n",
    "\n",
    "        m_x = circshift(m_x, -1)\n",
    "        m_x[end] = x_target\n",
    "        V_x = circshift(V_x, -1)\n",
    "        V_x[end] = Sigma\n",
    "    end\n",
    "\n",
    "    return (infer, act, slide, future)    \n",
    "end"
   ]
  },
  {
   "cell_type": "code",
<<<<<<< Updated upstream
   "execution_count": 793,
   "id": "55699db1",
   "metadata": {},
   "outputs": [],
=======
   "execution_count": 15,
   "id": "55699db1",
   "metadata": {},
   "outputs": [
    {
     "data": {
      "text/html": [
       "<img src=\"data:image/gif;base64,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\" />"
      ],
      "text/plain": [
       "Plots.AnimatedGif(\"/Users/jia/Documents/GitHub/Focus-group-control/Ship/shipnav-aif.gif\")"
      ]
     },
     "execution_count": 15,
     "metadata": {},
     "output_type": "execute_result"
    }
   ],
>>>>>>> Stashed changes
   "source": [
    "(execute_ai, observe_ai) = create_world(;\n",
    "    turning_rate, \n",
    "    initial_position = initial_position\n",
    "    # initial_velocity = initial_velocity\n",
    ") # Let there be a world\n",
    "\n",
    "T_ai = 50\n",
    "\n",
    "(infer_ai, act_ai, slide_ai, future_ai) = create_agent(; # Let there be an agent\n",
    "    T  = T_ai, \n",
    "    turning_rate=turning_rate,\n",
    "    x_target = x_target,\n",
    "    initial_position = initial_position\n",
    "    # initial_velocity = initial_velocity\n",
    ") \n",
    "\n",
    "N_ai = 100\n",
    "\n",
    "# Step through experimental protocol\n",
    "agent_a = Vector{Float64}(undef, N_ai) # Actions\n",
    "agent_f = Vector{Vector{Float64}}(undef, N_ai) # Predicted future\n",
    "agent_x = Vector{Vector{Float64}}(undef, N_ai) # Observations\n",
    "pp=[]\n",
    "for t=1:N_ai\n",
    "    agent_a[t] = act_ai()            # Invoke an action from the agent\n",
    "    agent_f[t] = future_ai()         # Fetch the predicted future states\n",
    "    execute_ai(agent_a[t])           # The action influences hidden external states\n",
    "    agent_x[t] = observe_ai()        # Observe the current environmental outcome (update p)\n",
    "    infer_ai(agent_a[t], agent_x[t]) # Infer beliefs from current model state (update q)\n",
    "    slide_ai()                       # Prepare for next iteration\n",
    "end\n",
    "\n",
    "animation_ai = @animate for i in 1:N_ai\n",
    "    scatter([x_target[1]], [x_target[2]],xlims = (-200,200),ylims = (-200,200),label = \"Target\",markersize=6)\n",
    "    scatter!([agent_x[i][1]], [agent_x[i][2]],xlims = (-200,200),ylims = (-200,200),label = \"Ship\",markersize=6)\n",
    "    plot!([agent_x[i][1],agent_x[i][1]+3*agent_x[i][4]*cos(agent_x[i][3])],[agent_x[i][2],agent_x[i][2]+3*agent_x[i][4]*sin(agent_x[i][3])],arrow=true,color=:black,label=\"\")\n",
    "    \n",
    "    # scatter!([x_target[1]], [height(x_target[1])], label=\"goal\")   \n",
    "end\n",
    "\n",
    "    \n",
    "gif(animation_ai, \"./ai-mountain-car-ai3.gif\", fps = 24, show_msg = false);"
   ]
  },
  {
   "cell_type": "code",
   "execution_count": 794,
   "id": "402ce928",
   "metadata": {},
   "outputs": [
    {
     "data": {
      "text/plain": [
       "4-element Vector{Float64}:\n",
       " 100.0\n",
       " 100.0\n",
       "   0.0\n",
       "   3.0"
      ]
     },
     "metadata": {},
     "output_type": "display_data"
    }
   ],
   "source": [
    "x_target"
   ]
  },
  {
   "cell_type": "code",
   "execution_count": 795,
   "id": "c25cea65",
   "metadata": {},
   "outputs": [
    {
     "data": {
      "text/plain": [
       "100-element Vector{Float64}:\n",
       "   0.0\n",
       "   0.40890817645181016\n",
       "   0.46083486081341196\n",
       "   0.48050139089017263\n",
       "   0.4833337388408952\n",
       "   0.4838688947078241\n",
       "   0.48382289401810846\n",
       "   0.4831049645778421\n",
       "   0.48161162161434223\n",
       "   0.4792951242604246\n",
       "   ⋮\n",
       "  31.479219349463268\n",
       " -37.82533807000029\n",
       "   4.28719178364682\n",
       "   2.3465020457697703\n",
       "   0.37586424689976705\n",
       "  -8.523212622911952\n",
       "   1.733811179222834\n",
       "   4.012136740008533\n",
       " -39.843998570808175"
      ]
     },
     "metadata": {},
     "output_type": "display_data"
    }
   ],
   "source": [
    "agent_a"
   ]
  },
  {
   "cell_type": "code",
   "execution_count": 796,
   "id": "5170dab9",
   "metadata": {},
   "outputs": [
    {
     "name": "stdout",
     "output_type": "stream",
     "text": [
      "[0.0, 0.40890817645181016, 0.46083486081341196, 0.48050139089017263, 0.4833337388408952, 0.4838688947078241, 0.48382289401810846, 0.4831049645778421, 0.48161162161434223, 0.4792951242604246, 0.4761308079331681, 0.4721035919309567, 0.4672040719733284, 0.461427708202163, 0.4547756316801023, 0.4472542420863543, 0.4388757284903514, 0.4296579214827827, 0.4196240882167957, 0.40880304189427114, 0.39722840504729046, 0.3849387407685578, 0.3719773759421766, 0.3583907474780239, 0.3442296069062918, 0.3295472838937424, 0.3143997245979398, 0.29884441008545376, 0.2829407811909678, 0.26674898239442457, 0.25032970475153415, 0.23374448838523984, 0.21705486156453574, 0.20032249649435724, 0.18360945890389282, 0.1669797376732844, 0.1504976780071969, 0.13423212621148065, 0.11825517268432169, 0.10264697146695562, 0.08749722470826443, 0.07291192881241941, 0.059018864748384275, 0.045978181913036736, 0.03399251754941163, 0.0233200787849954, 0.014238202762994898, 0.00665105892469761, -0.006199092934473974, 0.0003883725652019789, 0.0006133266419250139, 0.006357387203744766, 0.01979129968995654, 0.0394939330428274, -0.06255074206265598, 0.4975395374991917, -5.964970651131395, -10.779484538293062, 2.100389628950492, 0.8159037877367379, -1.0506084334248378, 2.2579894147379953, 9.414966889057988, -8.963856095887225, 26.27789302899055, 7.0667050048581, -8.890012044659121, -9.142512846653464, 2.101781483167375, -1.9544348025246283, 0.267027256512701, 27.81124136954474, -0.2103522255934988, 9.174799717972354, 8.75419961917393, 0.8610570076614611, 31.81030547050721, -4.618160427094648, -2.016242808884023, -8.878758413914642, -0.4986017594888977, 0.7210047047482504, 0.9368796735658051, 2.1276754780913194, 1.2354166010620051, -1.518943155717095, -1.2916504438840426, 0.41422127453843155, 73.7566938600419, 7.275849560635157, -0.21385885143418903, 31.479219349463268, -37.82533807000029, 4.28719178364682, 2.3465020457697703, 0.37586424689976705, -8.523212622911952, 1.733811179222834, 4.012136740008533, -39.843998570808175]\n"
     ]
    }
   ],
   "source": [
    "println(agent_a)"
   ]
  },
  {
   "cell_type": "code",
   "execution_count": 797,
   "id": "db3023eb",
   "metadata": {},
   "outputs": [
    {
     "data": {
      "text/plain": [
       "4-element Vector{Float64}:\n",
       " 106.5485780937291\n",
       " 241.45725928705016\n",
       "   1.9947725480960878\n",
       "   3.0"
      ]
     },
     "metadata": {},
     "output_type": "display_data"
    }
   ],
   "source": [
    "execute_ai(agent_a[1])"
   ]
  },
  {
   "cell_type": "markdown",
   "id": "58cbff4a",
   "metadata": {},
   "source": [
    "As we can see the agent does indeed swing in order to reach its goal. Its interesting though that in the beginning the agent does not attempt to do that but only after some time has passed. That can be explained by the fact that we set `T_ai = 50`, which means that the agent must reach its goal after 50 time steps. In the beginning of the simulation this time horizon appears to be so far in the future that the agent decides not to do anything (in this way the Active Inference agent proved that procrastinating is smart!). After around `30` time steps the goal target becomes closer in time (agent has less than 20 time steps left to achieve the goal) and agent finally decides to act, predicts its future states and realises that in order to achieve its goal it must swing."
   ]
  }
 ],
 "metadata": {
  "kernelspec": {
   "display_name": "Julia 1.7.2",
   "language": "julia",
   "name": "julia-1.7"
  },
  "language_info": {
   "file_extension": ".jl",
   "mimetype": "application/julia",
   "name": "julia",
   "version": "1.7.2"
  }
 },
 "nbformat": 4,
 "nbformat_minor": 5
}
