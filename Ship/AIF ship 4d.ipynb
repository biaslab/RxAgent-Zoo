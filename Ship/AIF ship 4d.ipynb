{
 "cells": [
  {
   "cell_type": "markdown",
   "id": "d4fcf02c",
   "metadata": {},
   "source": [
    "# Active Inference Ship navigation"
   ]
  },
  {
   "cell_type": "markdown",
   "id": "07bc2314",
   "metadata": {},
   "source": [
    "This notebooks covers fundamentals of the Active Inference framework implemented with the Bethe Free Energy optimisation with message passing on factor graphs. We refer reader to the [Thijs van de Laar (2019) \"Simulating active inference processes by message passing\"](https://doi.org/10.3389/frobt.2019.00020) original paper with more in-depth overview and explanation of the active inference agent implementation by message passing."
   ]
  },
  {
   "cell_type": "code",
   "execution_count": 296,
   "id": "628ff1e9",
   "metadata": {},
   "outputs": [
    {
     "name": "stderr",
     "output_type": "stream",
     "text": [
      "\u001b[32m\u001b[1m  Activating\u001b[22m\u001b[39m project at `~/Documents/GitHub/Focus-group-control/Ship`\n"
     ]
    }
   ],
   "source": [
    "import Pkg; Pkg.activate(\".\"); Pkg.instantiate();"
   ]
  },
  {
   "cell_type": "code",
   "execution_count": 297,
   "id": "0c0cfee2",
   "metadata": {},
   "outputs": [],
   "source": [
    "using RxInfer\n",
    "using Plots\n",
    "default(label=\"\", margin=10Plots.pt)"
   ]
  },
  {
   "cell_type": "markdown",
   "id": "bfa98dad",
   "metadata": {},
   "source": [
    "## System dynamics"
   ]
  },
  {
   "cell_type": "code",
   "execution_count": 298,
   "id": "8d9245e6",
   "metadata": {},
   "outputs": [
    {
     "data": {
      "text/plain": [
       "ship_dynamic (generic function with 2 methods)"
      ]
     },
     "execution_count": 298,
     "metadata": {},
     "output_type": "execute_result"
    }
   ],
   "source": [
    "#We need control rudder and accelerator for turning and accelerate. But at first, we only consider turning rate\n",
    "function ship_dynamic(engine_force_limit=0.1)\n",
    "    B =[ 0.0,0.0,1.0,0.0 ]\n",
    "    turning_rate=(a::Real) -> begin\n",
    "        B*engine_force_limit*tanh(a)\n",
    "    end\n",
    "    return (turning_rate)\n",
    "end"
   ]
  },
  {
   "cell_type": "code",
   "execution_count": 299,
   "id": "fc7e414e",
   "metadata": {},
   "outputs": [
    {
     "data": {
      "text/plain": [
       "#583 (generic function with 1 method)"
      ]
     },
     "execution_count": 299,
     "metadata": {},
     "output_type": "execute_result"
    }
   ],
   "source": [
    "turning_rate=ship_dynamic(\n",
    ")"
   ]
  },
  {
   "cell_type": "code",
   "execution_count": 300,
   "id": "eb54f146",
   "metadata": {},
   "outputs": [
    {
     "data": {
      "text/plain": [
       "4-element Vector{Float64}:\n",
       " -0.0\n",
       "  0.0\n",
       "  4.71238898038469\n",
       "  3.0"
      ]
     },
     "execution_count": 300,
     "metadata": {},
     "output_type": "execute_result"
    }
   ],
   "source": [
    "initial_position = [-0.0,0.0,(3/2)π,3.0]"
   ]
  },
  {
   "cell_type": "code",
   "execution_count": 301,
   "id": "9b5f0918",
   "metadata": {},
   "outputs": [
    {
     "data": {
      "text/plain": [
       "getAFromState (generic function with 1 method)"
      ]
     },
     "execution_count": 301,
     "metadata": {},
     "output_type": "execute_result"
    }
   ],
   "source": [
    "function getAFromState(x,δt)\n",
    "    A=zeros(4)\n",
    "    A[1]=x[4]*cos(x[3])*δt\n",
    "    A[2]=x[4]*sin(x[3])*δt\n",
    "    return A\n",
    "end"
   ]
  },
  {
   "cell_type": "code",
   "execution_count": 302,
   "id": "8928083c",
   "metadata": {},
   "outputs": [
    {
     "data": {
      "text/plain": [
       "4-element Vector{Float64}:\n",
       " -5.51091059616309e-16\n",
       " -3.0\n",
       "  0.0\n",
       "  0.0"
      ]
     },
     "execution_count": 302,
     "metadata": {},
     "output_type": "execute_result"
    }
   ],
   "source": [
    "getAFromState(initial_position,1)"
   ]
  },
  {
   "cell_type": "markdown",
   "id": "72aa2d6d",
   "metadata": {},
   "source": [
    "# World - agent interaction\n",
    "\n",
    "Because the states of the world are unknown to the agent, we wrap them in a comprehension. The comprehension returns only the functions for interacting with the world and not the hidden states. This way, we introduce a stateful world whose states cannot be directly observed."
   ]
  },
  {
   "cell_type": "code",
   "execution_count": 303,
   "id": "6bebbc64",
   "metadata": {},
   "outputs": [
    {
     "data": {
      "text/plain": [
       "create_world (generic function with 1 method)"
      ]
     },
     "execution_count": 303,
     "metadata": {},
     "output_type": "execute_result"
    }
   ],
   "source": [
    "function create_world(;turning_rate, initial_position = [0.5,0.5,0.1,3.0])\n",
    "\n",
    "    y_t_min = initial_position\n",
    "    # y_dot_t_min = initial_velocity\n",
    "    \n",
    "    y_t = y_t_min\n",
    "    # y_dot_t = y_dot_t_min\n",
    "    \n",
    "    execute = (rudder::Float64) -> begin\n",
    "        \n",
    "        # Compute next state\n",
    "        y_t = getAFromState(y_t_min,1) + y_t_min + turning_rate(rudder)\n",
    "    \n",
    "        # Reset state for next step\n",
    "        y_t_min = y_t\n",
    "    end\n",
    "    \n",
    "    observe = () -> begin \n",
    "        return y_t\n",
    "    end\n",
    "        \n",
    "    return (execute, observe)\n",
    "end"
   ]
  },
  {
   "cell_type": "markdown",
   "id": "182fac49",
   "metadata": {},
   "source": [
    "## Naive approach\n",
    "\n",
    "In this simulation we are going to perform a naive action policy for tight full-power only. In this case, with limited engine power, the agent should not be able to achieve its goal:"
   ]
  },
  {
   "cell_type": "code",
   "execution_count": 304,
   "id": "07489d16",
   "metadata": {},
   "outputs": [
    {
     "data": {
      "text/html": [
       "<img src=\"data:image/gif;base64,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\" />"
      ],
      "text/plain": [
       "Plots.AnimatedGif(\"/Users/jia/Documents/GitHub/Focus-group-control/Ship/figures/shipnav-naive.gif\")"
      ]
     },
     "execution_count": 304,
     "metadata": {},
     "output_type": "execute_result"
    }
   ],
   "source": [
    "N_naive  = 100 # Total simulation time\n",
    "pi_naive = 0.1 # Naive policy for right full-power only\n",
    "\n",
    "# Let there be a world\n",
    "(execute_naive, observe_naive) = create_world(; \n",
    "turning_rate = turning_rate,\n",
    "    initial_position = initial_position, \n",
    ");\n",
    "\n",
    "y_naive = Vector{Vector{Float64}}(undef, N_naive)\n",
    "for t = 1:N_naive\n",
    "    execute_naive(pi_naive) # Execute environmental process\n",
    "    y_naive[t] = observe_naive() # Observe external states\n",
    "end\n",
    "\n",
    "x_target=[100.0,100.0,0.0*π,3.0]\n",
    "\n",
    "animation_naive = @animate for i in 1:N_naive\n",
    "    # plot(valley_x, valley_y, title = \"Naive policy\", label = \"Landscape\", color = \"black\", size = (800, 400))\n",
    "    # scatter([y_naive[1][1]], [y_naive[1][2]])\n",
    "    # plot(y_naive[1][1],y_naive[1:i][2])\n",
    "    scatter([50], [50],xlims = (-100,100),ylims = (-100,100), label = \"Target\")\n",
    "    scatter!([y_naive[i][1]], [y_naive[i][2]],xlims = (-100,100),ylims = (-100,100),label = \"ship\")\n",
    "    plot!([y_naive[i][1],y_naive[i][1]+2*y_naive[i][4]*cos(y_naive[i][3])],[y_naive[i][2],y_naive[i][2]+2*y_naive[i][4]*sin(y_naive[i][3])],arrow=true,color=:black,label=\"\")\n",
    "    \n",
    "    # scatter!([x_target[1]], [height(x_target[1])], label=\"goal\")   \n",
    "end\n",
    "\n",
    "gif(animation_naive, \"figures/shipnav-naive.gif\", fps = 24, show_msg = false)"
   ]
  },
  {
   "cell_type": "markdown",
   "id": "d7ce0568",
   "metadata": {},
   "source": [
    "[](ai-mountain-car-naive.gif)"
   ]
  },
  {
   "cell_type": "markdown",
   "id": "37298f6f",
   "metadata": {},
   "source": [
    "# Active inference approach\n",
    "\n",
    "In the active inference approach we are going to create an agent that models the environment around itself as well as the best possible actions in a probabilistic manner.\n",
    "\n",
    "The code in the next block defines the agent's internal beliefs over the external dynamics and its probabilistic model of the environment, which correspond accurately by directly using the functions defined above. We use the `@model` macro from `RxInfer` to define the probabilistic model and the `meta` block to define approximation methods for the nonlinear state-transition functions.\n",
    "\n",
    "In the model specification we in addition to the current state of the agent we include the beliefs over its future states (up to `T` steps ahead):"
   ]
  },
  {
   "cell_type": "code",
   "execution_count": 305,
   "id": "3057432b",
   "metadata": {},
   "outputs": [
    {
     "data": {
      "text/plain": [
       "#590 (generic function with 1 method)"
      ]
     },
     "execution_count": 305,
     "metadata": {},
     "output_type": "execute_result"
    }
   ],
   "source": [
    "hhh = (u::AbstractVector) -> turning_rate(u[1])"
   ]
  },
  {
   "cell_type": "code",
   "execution_count": 306,
   "id": "804fe715",
   "metadata": {},
   "outputs": [
    {
     "data": {
      "text/plain": [
       "#583 (generic function with 1 method)"
      ]
     },
     "execution_count": 306,
     "metadata": {},
     "output_type": "execute_result"
    }
   ],
   "source": [
    "turning_rate"
   ]
  },
  {
   "cell_type": "code",
   "execution_count": 307,
   "id": "107d6fa7",
   "metadata": {},
   "outputs": [
    {
     "data": {
      "text/plain": [
       "#592 (generic function with 1 method)"
      ]
     },
     "execution_count": 307,
     "metadata": {},
     "output_type": "execute_result"
    }
   ],
   "source": [
    "hh = (u::AbstractVector) -> turning_rate(u[1])"
   ]
  },
  {
   "cell_type": "code",
   "execution_count": 308,
   "id": "7429343b",
   "metadata": {},
   "outputs": [],
   "source": [
    "@model function shipnav(; T,turning_rate)\n",
    "    \n",
    "    # Transition function modeling transition due to gravity and friction\n",
    "    g = (s_t_min::AbstractVector) -> begin \n",
    "        s_t = similar(s_t_min) # Next state\n",
    "        s_t=getAFromState(s_t_min,1.0) + s_t_min\n",
    "        return s_t\n",
    "    end\n",
    "    \n",
    "    # Function for modeling engine control\n",
    "    h = (u::AbstractVector) -> turning_rate(u[1])\n",
    "    \n",
    "    # Inverse engine force, from change in state to corresponding engine force\n",
    "    # h_inv = (delta_s_dot::AbstractVector) -> [atanh(clamp(delta_s_dot[2], -engine_force_limit+1e-3, engine_force_limit-1e-3)/engine_force_limit)] \n",
    "    \n",
    "    # C = constvar([1. 0. 0. 0.;\n",
    "    #               0. 1. 0. 0.])\n",
    "\n",
    "    # Internal model perameters\n",
    "    Gamma = 1e4*diageye(4) # Transition precision\n",
    "    Theta = 1e-4*diageye(4) # Observation variance\n",
    "    \n",
    "    m_s_t_min = datavar(Vector{Float64})\n",
    "    V_s_t_min = datavar(Matrix{Float64})\n",
    "\n",
    "    s_t_min ~ MvNormal(mean = m_s_t_min, cov = V_s_t_min)\n",
    "    s_k_min = s_t_min\n",
    "    \n",
    "    m_u = datavar(Vector{Float64}, T)\n",
    "    V_u = datavar(Matrix{Float64}, T)\n",
    "    \n",
    "    m_x = datavar(Vector{Float64}, T)\n",
    "    V_x = datavar(Matrix{Float64}, T)\n",
    "    \n",
    "    u = randomvar(T)\n",
    "    s = randomvar(T)\n",
    "    x = randomvar(T)\n",
    "    \n",
    "    u_h_k = randomvar(T)\n",
    "    s_g_k = randomvar(T)\n",
    "    u_s_sum = randomvar(T)\n",
    "\n",
    "    for k in 1:T\n",
    "        u[k] ~ MvNormal(mean = m_u[k], cov = V_u[k])\n",
    "        # bb=truncated(Normal(0,1), 0, Inf)\n",
    "        # u[k] ~ truncated(MvNormal(mean = m_u[k], cov = V_u[k]),0, Inf)\n",
    "        u_h_k[k] ~ h(u[k]) where { meta = DeltaMeta(method = Unscented()) }\n",
    "        s_g_k[k] ~ g(s_k_min) where { meta = DeltaMeta(method = Unscented()) }\n",
    "        u_s_sum[k] ~ s_g_k[k] + u_h_k[k]\n",
    "        s[k] ~ MvNormal(mean = u_s_sum[k], precision = Gamma)\n",
    "        x[k] ~ MvNormal(mean = s[k], cov = Theta)\n",
    "        x[k] ~ MvNormal(mean = m_x[k], cov = V_x[k]) # goal\n",
    "        s_k_min = s[k]\n",
    "    end\n",
    "    \n",
    "    return (s, )\n",
    "end"
   ]
  },
  {
   "cell_type": "code",
   "execution_count": 309,
   "id": "571af9c8",
   "metadata": {},
   "outputs": [
    {
     "data": {
      "text/plain": [
       "create_agent (generic function with 1 method)"
      ]
     },
     "execution_count": 309,
     "metadata": {},
     "output_type": "execute_result"
    }
   ],
   "source": [
    "# We are going to use some private functionality from ReactiveMP, \n",
    "# in the future we should expose a proper API for this\n",
    "import RxInfer.ReactiveMP: getrecent, messageout\n",
    "\n",
    "function create_agent(; T = 20, turning_rate, x_target, initial_position)\n",
    "    Epsilon = fill(0.9, 1, 1)                 # Control prior variance\n",
    "    m_u = Vector{Float64}[ [ 0.0] for k=1:T ] # Set control priors\n",
    "    V_u = Matrix{Float64}[ Epsilon for k=1:T ]\n",
    "\n",
    "    Sigma    = 1e-8*diageye(4) # Goal prior variance\n",
    "    Sigma[3,3]=1e8\n",
    "    Sigma[4,4]=1e8\n",
    "    m_x      = [zeros(4) for k=1:T]\n",
    "    m_x[end]      = x_target\n",
    "    V_x      = [huge*diageye(4) for k=1:T]\n",
    "    V_x[end] = Sigma # Set prior to reach goal at t=T\n",
    "\n",
    "    # Set initial brain state prior\n",
    "    m_s_t_min = initial_position\n",
    "    V_s_t_min = tiny * diageye(4)\n",
    "    \n",
    "    # Set current inference results\n",
    "    result = nothing\n",
    "    pol = zeros(T)\n",
    "\n",
    "    # The `infer` function is the heart of the agent\n",
    "    # It calls the `RxInfer.inference` function to perform Bayesian inference by message passing\n",
    "    infer = (upsilon_t::Float64, y_hat_t::Vector{Float64}) -> begin\n",
    "        m_u[1] = [ upsilon_t ] # Register action with the generative model\n",
    "        V_u[1] = fill(tiny, 1, 1) # Clamp control prior to performed action\n",
    "\n",
    "        m_x[1] = y_hat_t # Register observation with the generative model\n",
    "        V_x[1] = tiny*diageye(4) # Clamp goal prior to observation\n",
    "\n",
    "        data = Dict(:m_u       => m_u, \n",
    "                    :V_u       => V_u, \n",
    "                    :m_x       => m_x, \n",
    "                    :V_x       => V_x,\n",
    "                    :m_s_t_min => m_s_t_min,\n",
    "                    :V_s_t_min => V_s_t_min)\n",
    "        \n",
    "        model  = shipnav(; T = T, turning_rate) \n",
    "        result = inference(model = model, data = data)\n",
    "        # pol = [mode(result.posteriors[:u][k])[1] for k=1:T]\n",
    "    end\n",
    "    \n",
    "    # The `act` function returns the inferred best possible action\n",
    "    # act() = pol[1]\n",
    "    \n",
    "    act = () -> begin\n",
    "        if result !== nothing\n",
    "            return mode(result.posteriors[:u][3])[1] ##\n",
    "        else\n",
    "            return 0.0 # Without inference result we return some 'random' action\n",
    "        end\n",
    "    end\n",
    "    \n",
    "    # The `future` function returns the inferred future states\n",
    "    future = () -> begin \n",
    "        if result !== nothing \n",
    "            return getindex.(mode.(result.posteriors[:s]), 1)\n",
    "        else\n",
    "            return zeros(T)\n",
    "        end\n",
    "    end\n",
    "\n",
    "    # The `slide` function modifies the `(m_s_t_min, V_s_t_min)` for the next step\n",
    "    # and shifts (or slides) the array of future goals `(m_x, V_x)` and inferred actions `(m_u, V_u)`\n",
    "    slide = () -> begin\n",
    "        (s, ) = result.returnval\n",
    "        \n",
    "        slide_msg_idx = 3 # This index is model dependend\n",
    "        (m_s_t_min, V_s_t_min) = mean_cov(getrecent(messageout(s[2], slide_msg_idx)))\n",
    "\n",
    "        m_u = circshift(m_u, -1)\n",
    "        m_u[end] = [0.0]\n",
    "        # m_u = pol\n",
    "        V_u = circshift(V_u, -1)\n",
    "        V_u[end] = Epsilon\n",
    "\n",
    "        m_x = circshift(m_x, -1)\n",
    "        m_x[end] = x_target\n",
    "        V_x = circshift(V_x, -1)\n",
    "        V_x[end] = Sigma\n",
    "    end\n",
    "\n",
    "    return (infer, act, slide, future)    \n",
    "end"
   ]
  },
  {
   "cell_type": "code",
   "execution_count": 310,
   "id": "ba12aee8",
   "metadata": {},
   "outputs": [
    {
     "data": {
      "text/html": [
       "<img src=\"data:image/gif;base64,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\" />"
      ],
      "text/plain": [
       "Plots.AnimatedGif(\"/Users/jia/Documents/GitHub/Focus-group-control/Ship/shipnav-aif.gif\")"
      ]
     },
     "execution_count": 310,
     "metadata": {},
     "output_type": "execute_result"
    }
   ],
   "source": [
    "(execute_ai, observe_ai) = create_world(;\n",
    "    turning_rate, \n",
    "    initial_position = initial_position\n",
    "    # initial_velocity = initial_velocity\n",
    ") # Let there be a world\n",
    "\n",
    "T_ai = 50\n",
    "\n",
    "(infer_ai, act_ai, slide_ai, future_ai) = create_agent(; # Let there be an agent\n",
    "    T  = T_ai, \n",
    "    turning_rate=turning_rate,\n",
    "    x_target = x_target,\n",
    "    initial_position = initial_position\n",
    "    # initial_velocity = initial_velocity\n",
    ") \n",
    "\n",
    "N_ai = 100\n",
    "\n",
    "# Step through experimental protocol\n",
    "agent_a = Vector{Float64}(undef, N_ai) # Actions\n",
    "agent_f = Vector{Vector{Float64}}(undef, N_ai) # Predicted future\n",
    "agent_x = Vector{Vector{Float64}}(undef, N_ai) # Observations\n",
    "pp=[]\n",
    "for t=1:N_ai\n",
    "    agent_a[t] = act_ai()            # Invoke an action from the agent\n",
    "    agent_f[t] = future_ai()         # Fetch the predicted future states\n",
    "    execute_ai(agent_a[t])           # The action influences hidden external states\n",
    "    agent_x[t] = observe_ai()        # Observe the current environmental outcome (update p)\n",
    "    res=infer_ai(agent_a[t], agent_x[t]) # Infer beliefs from current model state (update q)\n",
    "    push!(pp,res)\n",
    "    slide_ai()                       # Prepare for next iteration\n",
    "end\n",
    "\n",
    "animation_ai = @animate for i in 1:N_ai\n",
    "    scatter([x_target[1]], [x_target[2]],xlims = (-400,400),ylims = (-400,400),label = \"Target\",markersize=6)\n",
    "    scatter!([agent_x[i][1]], [agent_x[i][2]],xlims = (-400,400),ylims = (-400,400),label = \"Ship\",markersize=6)\n",
    "    plot!([agent_x[i][1],agent_x[i][1]+3*agent_x[i][4]*cos(agent_x[i][3])],[agent_x[i][2],agent_x[i][2]+3*agent_x[i][4]*sin(agent_x[i][3])],arrow=true,color=:black,label=\"\")\n",
    "    \n",
    "    # scatter!([x_target[1]], [height(x_target[1])], label=\"goal\")   \n",
    "end\n",
    "\n",
    "    \n",
    "gif(animation_ai, \"./shipnav-aif.gif\", fps = 24, show_msg = false)"
   ]
  },
  {
   "cell_type": "code",
   "execution_count": 312,
   "id": "14e13c1b",
   "metadata": {},
   "outputs": [],
   "source": [
    "using JLD\n",
    "r = rand(3, 3, 3)\n",
    "save(\"data/data.jld\", \"data\", agent_x)\n",
    "# load(\"data.jld\")[\"data\"]"
   ]
  }
 ],
 "metadata": {
  "kernelspec": {
   "display_name": "Julia 1.7.2",
   "language": "julia",
   "name": "julia-1.7"
  },
  "language_info": {
   "file_extension": ".jl",
   "mimetype": "application/julia",
   "name": "julia",
   "version": "1.7.2"
  }
 },
 "nbformat": 4,
 "nbformat_minor": 5
}
