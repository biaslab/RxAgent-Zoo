{
 "cells": [
  {
   "cell_type": "markdown",
   "id": "37d090e8",
   "metadata": {},
   "source": [
    "# Active Inference Ship navigation"
   ]
  },
  {
   "cell_type": "markdown",
   "id": "c8840415",
   "metadata": {},
   "source": [
    "This notebooks covers fundamentals of the Active Inference framework implemented with the Bethe Free Energy optimisation with message passing on factor graphs. We refer reader to the [Thijs van de Laar (2019) \"Simulating active inference processes by message passing\"](https://doi.org/10.3389/frobt.2019.00020) original paper with more in-depth overview and explanation of the active inference agent implementation by message passing."
   ]
  },
  {
   "cell_type": "code",
   "execution_count": 1,
   "id": "c3b0c692",
   "metadata": {},
   "outputs": [
    {
     "name": "stderr",
     "output_type": "stream",
     "text": [
      "\u001b[32m\u001b[1m  Activating\u001b[22m\u001b[39m new project at `~/syndr/Wouter/Onderzoek/Demonstraties/tue/Focus-group-control/Ship`\n",
      "\u001b[32m\u001b[1m  No Changes\u001b[22m\u001b[39m to `~/syndr/Wouter/Onderzoek/Demonstraties/tue/Focus-group-control/Ship/Project.toml`\n",
      "\u001b[32m\u001b[1m  No Changes\u001b[22m\u001b[39m to `~/syndr/Wouter/Onderzoek/Demonstraties/tue/Focus-group-control/Ship/Manifest.toml`\n"
     ]
    }
   ],
   "source": [
    "import Pkg; Pkg.activate(\".\"); Pkg.instantiate();"
   ]
  },
  {
   "cell_type": "code",
   "execution_count": 6,
   "id": "b301ff1d",
   "metadata": {},
   "outputs": [
    {
     "name": "stderr",
     "output_type": "stream",
     "text": [
      "┌ Info: Precompiling Plots [91a5bcdd-55d7-5caf-9e0b-520d859cae80]\n",
      "└ @ Base loading.jl:1423\n"
     ]
    }
   ],
   "source": [
    "using RxInfer\n",
    "using Plots\n",
    "default(label=\"\", margin=10Plots.pt)"
   ]
  },
  {
   "cell_type": "markdown",
   "id": "dcac307f",
   "metadata": {},
   "source": [
    "## System dynamics"
   ]
  },
  {
   "cell_type": "code",
   "execution_count": 7,
   "id": "1118c8f0",
   "metadata": {},
   "outputs": [
    {
     "data": {
      "text/plain": [
       "ship_dynamic (generic function with 2 methods)"
      ]
     },
     "execution_count": 7,
     "metadata": {},
     "output_type": "execute_result"
    }
   ],
   "source": [
    "#We need control rudder and accelerator for turning and accelerate. But at first, we only consider turning rate\n",
    "function ship_dynamic(engine_force_limit=0.1)\n",
    "    B =[ 0.0,0.0,1.0,0.0 ]\n",
    "    turning_rate=(a::Real) -> begin\n",
    "        B*engine_force_limit*tanh(a)\n",
    "    end\n",
    "    return (turning_rate)\n",
    "end"
   ]
  },
  {
   "cell_type": "code",
   "execution_count": 8,
   "id": "2951933a",
   "metadata": {},
   "outputs": [
    {
     "data": {
      "text/plain": [
       "#1 (generic function with 1 method)"
      ]
     },
     "execution_count": 8,
     "metadata": {},
     "output_type": "execute_result"
    }
   ],
   "source": [
    "turning_rate=ship_dynamic(\n",
    ")"
   ]
  },
  {
   "cell_type": "code",
   "execution_count": 9,
   "id": "531783b6",
   "metadata": {},
   "outputs": [
    {
     "data": {
      "text/plain": [
       "4-element Vector{Float64}:\n",
       " -0.0\n",
       "  0.0\n",
       " -0.1\n",
       "  3.0"
      ]
     },
     "execution_count": 9,
     "metadata": {},
     "output_type": "execute_result"
    }
   ],
   "source": [
    "initial_position = [-0.0,0.0,-0.1,3.0]"
   ]
  },
  {
   "cell_type": "code",
   "execution_count": 10,
   "id": "8b8b8fa0",
   "metadata": {},
   "outputs": [
    {
     "data": {
      "text/plain": [
       "getAFromState (generic function with 1 method)"
      ]
     },
     "execution_count": 10,
     "metadata": {},
     "output_type": "execute_result"
    }
   ],
   "source": [
    "function getAFromState(x,δt)\n",
    "    A=zeros(4)\n",
    "    A[1]=x[4]*cos(x[3])*δt\n",
    "    A[2]=x[4]*sin(x[3])*δt\n",
    "    return A\n",
    "end"
   ]
  },
  {
   "cell_type": "code",
   "execution_count": 11,
   "id": "45da3a68",
   "metadata": {},
   "outputs": [
    {
     "data": {
      "text/plain": [
       "4-element Vector{Float64}:\n",
       "  2.9850124958340776\n",
       " -0.29950024994048446\n",
       "  0.0\n",
       "  0.0"
      ]
     },
     "execution_count": 11,
     "metadata": {},
     "output_type": "execute_result"
    }
   ],
   "source": [
    "getAFromState(initial_position,1)"
   ]
  },
  {
   "cell_type": "markdown",
   "id": "ae812643",
   "metadata": {},
   "source": [
    "# World - agent interaction\n",
    "\n",
    "Because the states of the world are unknown to the agent, we wrap them in a comprehension. The comprehension returns only the functions for interacting with the world and not the hidden states. This way, we introduce a stateful world whose states cannot be directly observed."
   ]
  },
  {
   "cell_type": "code",
   "execution_count": 12,
   "id": "51b8c099",
   "metadata": {},
   "outputs": [
    {
     "data": {
      "text/plain": [
       "create_world (generic function with 1 method)"
      ]
     },
     "execution_count": 12,
     "metadata": {},
     "output_type": "execute_result"
    }
   ],
   "source": [
    "function create_world(;turning_rate, initial_position = [0.5,0.5,0.1,3.0])\n",
    "\n",
    "    y_t_min = initial_position\n",
    "    # y_dot_t_min = initial_velocity\n",
    "    \n",
    "    y_t = y_t_min\n",
    "    # y_dot_t = y_dot_t_min\n",
    "    \n",
    "    execute = (rudder::Float64) -> begin\n",
    "        \n",
    "        # Compute next state\n",
    "        y_t = getAFromState(y_t_min,1) + y_t_min + turning_rate(rudder)\n",
    "    \n",
    "        # Reset state for next step\n",
    "        y_t_min = y_t\n",
    "    end\n",
    "    \n",
    "    observe = () -> begin \n",
    "        return y_t\n",
    "    end\n",
    "        \n",
    "    return (execute, observe)\n",
    "end"
   ]
  },
  {
   "cell_type": "markdown",
   "id": "31e3ca36",
   "metadata": {},
   "source": [
    "## Naive approach\n",
    "\n",
    "In this simulation we are going to perform a naive action policy for tight full-power only. In this case, with limited engine power, the agent should not be able to achieve its goal:"
   ]
  },
  {
   "cell_type": "code",
   "execution_count": 14,
   "id": "bbd21a58",
   "metadata": {},
   "outputs": [
    {
     "data": {
      "text/html": [
       "<img src=\"data:image/gif;base64,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\" />"
      ],
      "text/plain": [
       "Plots.AnimatedGif(\"/home/wmkouw/syndr/Wouter/Onderzoek/Demonstraties/tue/Focus-group-control/Ship/figures/shipnav-naive.gif\")"
      ]
     },
     "execution_count": 14,
     "metadata": {},
     "output_type": "execute_result"
    }
   ],
   "source": [
    "N_naive  = 100 # Total simulation time\n",
    "pi_naive = 0.1 # Naive policy for right full-power only\n",
    "\n",
    "# Let there be a world\n",
    "(execute_naive, observe_naive) = create_world(; \n",
    "turning_rate = turning_rate,\n",
    "    initial_position = initial_position, \n",
    ");\n",
    "\n",
    "y_naive = Vector{Vector{Float64}}(undef, N_naive)\n",
    "for t = 1:N_naive\n",
    "    execute_naive(pi_naive) # Execute environmental process\n",
    "    y_naive[t] = observe_naive() # Observe external states\n",
    "end\n",
    "\n",
    "x_target=[100.0,100.0,0.0*π,3.0]\n",
    "\n",
    "animation_naive = @animate for i in 1:N_naive\n",
    "    # plot(valley_x, valley_y, title = \"Naive policy\", label = \"Landscape\", color = \"black\", size = (800, 400))\n",
    "    # scatter([y_naive[1][1]], [y_naive[1][2]])\n",
    "    # plot(y_naive[1][1],y_naive[1:i][2])\n",
    "    scatter([50], [50],xlims = (-100,100),ylims = (-100,100), label = \"Target\")\n",
    "    scatter!([y_naive[i][1]], [y_naive[i][2]],xlims = (-100,100),ylims = (-100,100),label = \"ship\")\n",
    "    plot!([y_naive[i][1],y_naive[i][1]+2*y_naive[i][4]*cos(y_naive[i][3])],[y_naive[i][2],y_naive[i][2]+2*y_naive[i][4]*sin(y_naive[i][3])],arrow=true,color=:black,label=\"\")\n",
    "    \n",
    "    # scatter!([x_target[1]], [height(x_target[1])], label=\"goal\")   \n",
    "end\n",
    "\n",
    "gif(animation_naive, \"figures/shipnav-naive.gif\", fps = 24, show_msg = false)"
   ]
  },
  {
   "cell_type": "markdown",
   "id": "6f1a7393",
   "metadata": {},
   "source": [
    "[](ai-mountain-car-naive.gif)"
   ]
  },
  {
   "cell_type": "markdown",
   "id": "3f48e446",
   "metadata": {},
   "source": [
    "# Active inference approach\n",
    "\n",
    "In the active inference approach we are going to create an agent that models the environment around itself as well as the best possible actions in a probabilistic manner.\n",
    "\n",
    "The code in the next block defines the agent's internal beliefs over the external dynamics and its probabilistic model of the environment, which correspond accurately by directly using the functions defined above. We use the `@model` macro from `RxInfer` to define the probabilistic model and the `meta` block to define approximation methods for the nonlinear state-transition functions.\n",
    "\n",
    "In the model specification we in addition to the current state of the agent we include the beliefs over its future states (up to `T` steps ahead):"
   ]
  },
  {
   "cell_type": "code",
   "execution_count": 15,
   "id": "5a348e72",
   "metadata": {},
   "outputs": [
    {
     "data": {
      "text/plain": [
       "#8 (generic function with 1 method)"
      ]
     },
     "execution_count": 15,
     "metadata": {},
     "output_type": "execute_result"
    }
   ],
   "source": [
    "hhh = (u::AbstractVector) -> turning_rate(u[1])"
   ]
  },
  {
   "cell_type": "code",
   "execution_count": 16,
   "id": "69370c85",
   "metadata": {},
   "outputs": [
    {
     "data": {
      "text/plain": [
       "#1 (generic function with 1 method)"
      ]
     },
     "execution_count": 16,
     "metadata": {},
     "output_type": "execute_result"
    }
   ],
   "source": [
    "turning_rate"
   ]
  },
  {
   "cell_type": "code",
   "execution_count": 17,
   "id": "9c5d7902",
   "metadata": {},
   "outputs": [
    {
     "data": {
      "text/plain": [
       "#10 (generic function with 1 method)"
      ]
     },
     "execution_count": 17,
     "metadata": {},
     "output_type": "execute_result"
    }
   ],
   "source": [
    "hh = (u::AbstractVector) -> turning_rate(u[1])"
   ]
  },
  {
   "cell_type": "code",
   "execution_count": 18,
   "id": "d0c71ccb",
   "metadata": {},
   "outputs": [],
   "source": [
    "@model function shipnav(; T,turning_rate)\n",
    "    \n",
    "    # Transition function modeling transition due to gravity and friction\n",
    "    g = (s_t_min::AbstractVector) -> begin \n",
    "        s_t = similar(s_t_min) # Next state\n",
    "        s_t=getAFromState(s_t_min,1.0) + s_t_min\n",
    "        return s_t\n",
    "    end\n",
    "    \n",
    "    # Function for modeling engine control\n",
    "    h = (u::AbstractVector) -> turning_rate(u[1])\n",
    "    \n",
    "    # Inverse engine force, from change in state to corresponding engine force\n",
    "    # h_inv = (delta_s_dot::AbstractVector) -> [atanh(clamp(delta_s_dot[2], -engine_force_limit+1e-3, engine_force_limit-1e-3)/engine_force_limit)] \n",
    "    \n",
    "    # C = constvar([1. 0. 0. 0.;\n",
    "    #               0. 1. 0. 0.])\n",
    "\n",
    "    # Internal model perameters\n",
    "    Gamma = 1e4*diageye(4) # Transition precision\n",
    "    Theta = 1e-4*diageye(4) # Observation variance\n",
    "    \n",
    "    m_s_t_min = datavar(Vector{Float64})\n",
    "    V_s_t_min = datavar(Matrix{Float64})\n",
    "\n",
    "    s_t_min ~ MvNormal(mean = m_s_t_min, cov = V_s_t_min)\n",
    "    s_k_min = s_t_min\n",
    "    \n",
    "    m_u = datavar(Vector{Float64}, T)\n",
    "    V_u = datavar(Matrix{Float64}, T)\n",
    "    \n",
    "    m_x = datavar(Vector{Float64}, T)\n",
    "    V_x = datavar(Matrix{Float64}, T)\n",
    "    \n",
    "    u = randomvar(T)\n",
    "    s = randomvar(T)\n",
    "    x = randomvar(T)\n",
    "    \n",
    "    u_h_k = randomvar(T)\n",
    "    s_g_k = randomvar(T)\n",
    "    u_s_sum = randomvar(T)\n",
    "\n",
    "    for k in 1:T\n",
    "        u[k] ~ MvNormal(mean = m_u[k], cov = V_u[k])\n",
    "        u_h_k[k] ~ h(u[k]) where { meta = DeltaMeta(method = Unscented()) }\n",
    "        s_g_k[k] ~ g(s_k_min) where { meta = DeltaMeta(method = Unscented()) }\n",
    "        u_s_sum[k] ~ s_g_k[k] + u_h_k[k]\n",
    "        s[k] ~ MvNormal(mean = u_s_sum[k], precision = Gamma)\n",
    "        x[k] ~ MvNormal(mean = s[k], cov = Theta)\n",
    "        x[k] ~ MvNormal(mean = m_x[k], cov = V_x[k]) # goal\n",
    "        s_k_min = s[k]\n",
    "    end\n",
    "    \n",
    "    return (s, )\n",
    "end"
   ]
  },
  {
   "cell_type": "code",
   "execution_count": 31,
   "id": "89f81839",
   "metadata": {},
   "outputs": [
    {
     "data": {
      "text/plain": [
       "create_agent (generic function with 1 method)"
      ]
     },
     "execution_count": 31,
     "metadata": {},
     "output_type": "execute_result"
    }
   ],
   "source": [
    "# We are going to use some private functionality from ReactiveMP, \n",
    "# in the future we should expose a proper API for this\n",
    "import RxInfer.ReactiveMP: getrecent, messageout\n",
    "\n",
    "function create_agent(; T = 20, turning_rate, x_target, initial_position)\n",
    "    Epsilon = fill(0.1, 1, 1)                 # Control prior variance\n",
    "    m_u = Vector{Float64}[ [ 0.0] for k=1:T ] # Set control priors\n",
    "    V_u = Matrix{Float64}[ Epsilon for k=1:T ]\n",
    "\n",
    "    Sigma    = 1e-4*diageye(4) # Goal prior variance\n",
    "    Sigma[3,3]=1e4\n",
    "    Sigma[4,4]=1e4\n",
    "    m_x      = [zeros(4) for k=1:T]\n",
    "    m_x[end]      = x_target\n",
    "    V_x      = [huge*diageye(4) for k=1:T]\n",
    "    V_x[end] = Sigma # Set prior to reach goal at t=T\n",
    "\n",
    "    # Set initial brain state prior\n",
    "    m_s_t_min = initial_position\n",
    "    V_s_t_min = tiny * diageye(4)\n",
    "    \n",
    "    # Set current inference results\n",
    "    result = nothing\n",
    "    pol = zeros(T)\n",
    "\n",
    "    # The `infer` function is the heart of the agent\n",
    "    # It calls the `RxInfer.inference` function to perform Bayesian inference by message passing\n",
    "    infer = (upsilon_t::Float64, y_hat_t::Vector{Float64}) -> begin\n",
    "        m_u[1] = [ upsilon_t ] # Register action with the generative model\n",
    "        V_u[1] = fill(tiny, 1, 1) # Clamp control prior to performed action\n",
    "\n",
    "        m_x[1] = y_hat_t # Register observation with the generative model\n",
    "        V_x[1] = tiny*diageye(4) # Clamp goal prior to observation\n",
    "\n",
    "        data = Dict(:m_u       => m_u, \n",
    "                    :V_u       => V_u, \n",
    "                    :m_x       => m_x, \n",
    "                    :V_x       => V_x,\n",
    "                    :m_s_t_min => m_s_t_min,\n",
    "                    :V_s_t_min => V_s_t_min)\n",
    "        \n",
    "        model  = shipnav(; T = T, turning_rate) \n",
    "        result = inference(model = model, data = data)\n",
    "        # pol = [mode(result.posteriors[:u][k])[1] for k=1:T]\n",
    "    end\n",
    "    \n",
    "    # The `act` function returns the inferred best possible action\n",
    "    # act() = pol[1]\n",
    "    \n",
    "    act = () -> begin\n",
    "        if result !== nothing\n",
    "            return mode(result.posteriors[:u][3])[1] ##\n",
    "        else\n",
    "            return 0.0 # Without inference result we return some 'random' action\n",
    "        end\n",
    "    end\n",
    "    \n",
    "    # The `future` function returns the inferred future states\n",
    "    future = () -> begin \n",
    "        if result !== nothing \n",
    "            return getindex.(mode.(result.posteriors[:s]), 1)\n",
    "        else\n",
    "            return zeros(T)\n",
    "        end\n",
    "    end\n",
    "\n",
    "    # The `slide` function modifies the `(m_s_t_min, V_s_t_min)` for the next step\n",
    "    # and shifts (or slides) the array of future goals `(m_x, V_x)` and inferred actions `(m_u, V_u)`\n",
    "    slide = () -> begin\n",
    "        (s, ) = result.returnval\n",
    "        \n",
    "        slide_msg_idx = 3 # This index is model dependend\n",
    "        (m_s_t_min, V_s_t_min) = mean_cov(getrecent(messageout(s[2], slide_msg_idx)))\n",
    "\n",
    "        m_u = circshift(m_u, -1)\n",
    "        m_u[end] = [0.0]\n",
    "        # m_u = pol\n",
    "        V_u = circshift(V_u, -1)\n",
    "        V_u[end] = Epsilon\n",
    "\n",
    "        m_x = circshift(m_x, -1)\n",
    "        m_x[end] = x_target\n",
    "        V_x = circshift(V_x, -1)\n",
    "        V_x[end] = Sigma\n",
    "    end\n",
    "\n",
    "    return (infer, act, slide, future)    \n",
    "end"
   ]
  },
  {
   "cell_type": "code",
   "execution_count": 33,
   "id": "55699db1",
   "metadata": {},
   "outputs": [
    {
     "data": {
      "text/html": [
       "<img src=\"data:image/gif;base64,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\" />"
      ],
      "text/plain": [
       "Plots.AnimatedGif(\"/home/wmkouw/syndr/Wouter/Onderzoek/Demonstraties/tue/Focus-group-control/Ship/shipnav-aif.gif\")"
      ]
     },
     "execution_count": 33,
     "metadata": {},
     "output_type": "execute_result"
    }
   ],
   "source": [
    "(execute_ai, observe_ai) = create_world(;\n",
    "    turning_rate, \n",
    "    initial_position = initial_position\n",
    "    # initial_velocity = initial_velocity\n",
    ") # Let there be a world\n",
    "\n",
    "T_ai = 50\n",
    "\n",
    "(infer_ai, act_ai, slide_ai, future_ai) = create_agent(; # Let there be an agent\n",
    "    T  = T_ai, \n",
    "    turning_rate=turning_rate,\n",
    "    x_target = x_target,\n",
    "    initial_position = initial_position\n",
    "    # initial_velocity = initial_velocity\n",
    ") \n",
    "\n",
    "N_ai = 100\n",
    "\n",
    "# Step through experimental protocol\n",
    "agent_a = Vector{Float64}(undef, N_ai) # Actions\n",
    "agent_f = Vector{Vector{Float64}}(undef, N_ai) # Predicted future\n",
    "agent_x = Vector{Vector{Float64}}(undef, N_ai) # Observations\n",
    "pp=[]\n",
    "for t=1:N_ai\n",
    "    agent_a[t] = act_ai()            # Invoke an action from the agent\n",
    "    agent_f[t] = future_ai()         # Fetch the predicted future states\n",
    "    execute_ai(agent_a[t])           # The action influences hidden external states\n",
    "    agent_x[t] = observe_ai()        # Observe the current environmental outcome (update p)\n",
    "    infer_ai(agent_a[t], agent_x[t]) # Infer beliefs from current model state (update q)\n",
    "    slide_ai()                       # Prepare for next iteration\n",
    "end\n",
    "\n",
    "animation_ai = @animate for i in 1:N_ai\n",
    "    scatter([x_target[1]], [x_target[2]],xlims = (-200,200),ylims = (-200,200),label = \"Target\",markersize=6)\n",
    "    scatter!([agent_x[i][1]], [agent_x[i][2]],xlims = (-200,200),ylims = (-200,200),label = \"Ship\",markersize=6)\n",
    "    plot!([agent_x[i][1],agent_x[i][1]+3*agent_x[i][4]*cos(agent_x[i][3])],[agent_x[i][2],agent_x[i][2]+3*agent_x[i][4]*sin(agent_x[i][3])],arrow=true,color=:black,label=\"\")\n",
    "    \n",
    "    # scatter!([x_target[1]], [height(x_target[1])], label=\"goal\")   \n",
    "end\n",
    "\n",
    "    \n",
    "gif(animation_ai, \"./shipnav-aif.gif\", fps = 24, show_msg = false)"
   ]
  }
 ],
 "metadata": {
  "kernelspec": {
   "display_name": "Julia 1.7.2",
   "language": "julia",
   "name": "julia-1.7"
  },
  "language_info": {
   "file_extension": ".jl",
   "mimetype": "application/julia",
   "name": "julia",
   "version": "1.7.2"
  }
 },
 "nbformat": 4,
 "nbformat_minor": 5
}
