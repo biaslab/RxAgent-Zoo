{
 "cells": [
  {
   "cell_type": "code",
   "execution_count": 1,
   "metadata": {
    "scrolled": true
   },
   "outputs": [
    {
     "name": "stderr",
     "output_type": "stream",
     "text": [
      "\u001b[32m\u001b[1m  Activating\u001b[22m\u001b[39m project at `~/syndr/Wouter/Onderzoek/Demonstraties/tue/RxAgents/Thermostat`\n"
     ]
    }
   ],
   "source": [
    "import Pkg\n",
    "Pkg.activate(\".\")\n",
    "Pkg.instantiate();"
   ]
  },
  {
   "cell_type": "code",
   "execution_count": 2,
   "metadata": {},
   "outputs": [],
   "source": [
    "using RxInfer\n",
    "using Rocket\n",
    "using GraphPPL\n",
    "using Plots\n",
    "using ReactiveMP\n",
    "import ReactiveMP: getinterface, messageout"
   ]
  },
  {
   "cell_type": "code",
   "execution_count": 3,
   "metadata": {},
   "outputs": [
    {
     "data": {
      "text/plain": [
       "2-element Vector{Vector{Float64}}:\n",
       " [1.0, 1.0]\n",
       " [1.0, 1.0]"
      ]
     },
     "execution_count": 3,
     "metadata": {},
     "output_type": "execute_result"
    }
   ],
   "source": [
    "# Parameters\n",
    "zₜ = MvNormalMeanCovariance(zeros(2),diageye(2))\n",
    "T = 2\n",
    "A = B = C = Q = diageye(2)\n",
    "P = diageye(2) * tiny\n",
    "\n",
    "θᵤ = MvNormalMeanCovariance(zeros(2),diageye(2)*100)\n",
    "goals = [ones(2) * 1 for t in 1:T]"
   ]
  },
  {
   "cell_type": "markdown",
   "metadata": {},
   "source": [
    "There are several ways of constructing Bayesian agents that are consistent with the FEP. In this notebook we will focus on the simplest to implement in ReactiveMP and save more esoteric versions for later. \n",
    "\n",
    "The agent described here is an instance of model predictive control implemented by message passing on a graph. It infers the optimal sequence of actions to obtain some goal, defined as a prior on desired future observations.\n",
    "\n",
    "Concretely the agent is a state space model that performs online filtering. Additionally the model is extended a number of timesteps T into the future. Given goal priors on future observations, we can then perform a smoothing pass to obtain the optimal sequence of controls. Let's construct the generative model for the agent."
   ]
  },
  {
   "cell_type": "code",
   "execution_count": 4,
   "metadata": {},
   "outputs": [],
   "source": [
    "@model function controller_reactive(T, A, B, Q, P, C, θᵤ)\n",
    "\n",
    "    cA = constvar(A) # Transition matrix\n",
    "    cQ = constvar(Q) # Transition noise\n",
    "    cB = constvar(B) # Emission matrix\n",
    "    cC = constvar(C) # Control matrix\n",
    "    \n",
    "    # Vector of reference to factor nodes of latent states. Useful for later\n",
    "    znodes = Vector{}(undef, T)\n",
    "    \n",
    "    z = randomvar(T) # Hidden states\n",
    "    u = randomvar(T) # Control states\n",
    "\n",
    "    x = datavar(Vector{Float64}, T) # Goal priors\n",
    "    cP = constvar(P) # Goal prior variance\n",
    "\n",
    "    # \n",
    "    z_current_mean = datavar(Vector{Float64})\n",
    "    z_current_cov  = datavar(Matrix{Float64})\n",
    "    \n",
    "    # Prior state\n",
    "    z_prior ~ MvNormalMeanCovariance(z_current_mean, z_current_cov)\n",
    "    z_prev = z_prior\n",
    "    \n",
    "    # Current observation for filtering\n",
    "    x_0 = datavar(Vector{Float64})\n",
    "    x_0 ~ MvNormalMeanCovariance(cB * z_prior, cP)\n",
    "\n",
    "    # Extend the model T steps into the future\n",
    "    for t in 1:T\n",
    "        u[t] ~ MvNormalMeanCovariance(mean(θᵤ), cov(θᵤ))\n",
    "        znodes[t], z[t] ~ MvNormalMeanCovariance(cA * z_prev + cC * u[t], cQ)\n",
    "        x[t] ~ MvNormalMeanCovariance(cB * z[t], cP)\n",
    "        z_prev = z[t]\n",
    "    end\n",
    "\n",
    "    return x, x_0, z, znodes, u, z_current_mean, z_current_cov\n",
    "end"
   ]
  },
  {
   "cell_type": "markdown",
   "metadata": {},
   "source": [
    "The agent does not live in a vacuum though. We must construct an environment for it to interact with, as well as some interfaces between them. Let's define some structs to help with this. We will dispatch on these once we set up the action/perception loop."
   ]
  },
  {
   "cell_type": "code",
   "execution_count": 5,
   "metadata": {},
   "outputs": [],
   "source": [
    "struct NewControlPosteriorFromModel\n",
    "    posterior\n",
    "end\n",
    "\n",
    "struct NewObservationFromEnvironment\n",
    "    observation\n",
    "end"
   ]
  },
  {
   "cell_type": "markdown",
   "metadata": {},
   "source": [
    "Now we are ready to define an environment and a constructor for it. We make the environment an actor so our agent can subscribe to it and receive observations. The Environment struct holds the true state of the agent and an \"event\" variable that the agent will subscribe to."
   ]
  },
  {
   "cell_type": "code",
   "execution_count": 6,
   "metadata": {},
   "outputs": [
    {
     "data": {
      "text/plain": [
       "Environment"
      ]
     },
     "execution_count": 6,
     "metadata": {},
     "output_type": "execute_result"
    }
   ],
   "source": [
    "struct Environment <: Actor{Any}\n",
    "    \n",
    "    real_position :: Vector{Float64}\n",
    "    \n",
    "    events # :: Subject{Any} <- event emitter\n",
    "end\n",
    "\n",
    "function Environment()\n",
    "    real_position = zeros(2)\n",
    "    \n",
    "    # BehaviorSubject allows us to set the initial state\n",
    "    events = BehaviorSubject(NewObservationFromEnvironment(real_position))\n",
    "    \n",
    "    return Environment(real_position, events)\n",
    "end"
   ]
  },
  {
   "cell_type": "markdown",
   "metadata": {},
   "source": [
    "To have the environment update upon receiving an action from the agent, we define a method for the `on_next` function that dispatches on `Environment` and `NewControlPosteriorFromModel`."
   ]
  },
  {
   "cell_type": "code",
   "execution_count": 7,
   "metadata": {},
   "outputs": [],
   "source": [
    "function Rocket.on_next!(environment::Environment, event::NewControlPosteriorFromModel)\n",
    "    # println(\"Event to our env: \", mean(first(event.posterior)))\n",
    "    # Update position with the mean of the first planned action.\n",
    "    next_real_position = environment.real_position .+ mean(first(event.posterior))\n",
    "    \n",
    "    # Set the position variable in the environment \n",
    "    copyto!(environment.real_position, next_real_position)\n",
    "    \n",
    "    # Update environment and emit a new observation\n",
    "    next!(environment.events, NewObservationFromEnvironment(next_real_position))\n",
    "end"
   ]
  },
  {
   "cell_type": "markdown",
   "metadata": {},
   "source": [
    "Now we can define a constructor for our agent in a similar manner. Besides needing a generative model, we require the agent to be able to run inference, emit actions, listen to the environment and keep track of some internal variables"
   ]
  },
  {
   "cell_type": "code",
   "execution_count": 8,
   "metadata": {},
   "outputs": [
    {
     "data": {
      "text/plain": [
       "PlanningModel"
      ]
     },
     "execution_count": 8,
     "metadata": {},
     "output_type": "execute_result"
    }
   ],
   "source": [
    "struct PlanningModel <: Actor{Any}\n",
    "    model\n",
    "    model_variables\n",
    "    prediction_subscription\n",
    "    control_subscription\n",
    "    events :: Subject{Any}\n",
    "end\n",
    "\n",
    "function PlanningModel()\n",
    "    model, (x, x_0, z, znodes, u, zcm, zcc) = create_model(controller_reactive(T, A, B, P, Q, C, θᵤ));\n",
    "    \n",
    "    # Set initial state priors\n",
    "    update!(zcm, zeros(2))\n",
    "    update!(zcc, diageye(2))\n",
    "    \n",
    "    # Subject allows the agent to emit actions that can be picked up by the environment\n",
    "    events = Subject(Any)\n",
    "    \n",
    "    # Update the prior by performing a single filtering step. note that we get the _message_\n",
    "    # instead of the _marginal_ here to prevent erroneous information from the future\n",
    "    prediction_subscription = subscribe!(\n",
    "        messageout(getinterface(znodes[1], :out)), (prediction_z_1) -> begin\n",
    "        m, c = mean_cov(prediction_z_1)\n",
    "        update!(zcm, m)\n",
    "        update!(zcc, c)\n",
    "    end)\n",
    "    \n",
    "    # Emit an action whenever the control marginals are updated\n",
    "    control_subscription = subscribe!(getmarginals(u), (posterior_u) -> next!(events, NewControlPosteriorFromModel(posterior_u)))\n",
    "    \n",
    "    # Construct model\n",
    "    return PlanningModel(model, (x, x_0, z, znodes, u, zcm, zcc), prediction_subscription, control_subscription, events)\n",
    "end"
   ]
  },
  {
   "cell_type": "markdown",
   "metadata": {},
   "source": [
    "One thing we need to keep in mind is that, in order to maintain correct state estimates, the agent should not update it's priors based on backwards messages from the future. This is why `prediction_subscription` needs to get the outgoing message from the first transition node instead of the marginal"
   ]
  },
  {
   "cell_type": "markdown",
   "metadata": {},
   "source": [
    "Once again we define a new method for `on_next` that allows the agent to update itself upon receiving new observations from the environment"
   ]
  },
  {
   "cell_type": "code",
   "execution_count": 9,
   "metadata": {},
   "outputs": [],
   "source": [
    "function Rocket.on_next!(model::PlanningModel, event::NewObservationFromEnvironment)\n",
    "    # println(\"Event to our model: \", event)\n",
    "    (x, x_0, z, znodes, u, zcm, zcc) = model.model_variables\n",
    "    update!(x_0, event.observation)\n",
    "end\n",
    "\n",
    "# function Rocket.on_next!(model::PlanningModel, event::FatalErrorEvent)\n",
    "#     unsubscribe!(model.control_subscription)\n",
    "# end"
   ]
  },
  {
   "cell_type": "markdown",
   "metadata": {},
   "source": [
    "Now we are ready to instantiate our agent and its environment!"
   ]
  },
  {
   "cell_type": "code",
   "execution_count": 10,
   "metadata": {},
   "outputs": [],
   "source": [
    "environment = Environment();\n",
    "model = PlanningModel();"
   ]
  },
  {
   "cell_type": "markdown",
   "metadata": {},
   "source": [
    "Let's have the agent and environment listen to each other."
   ]
  },
  {
   "cell_type": "code",
   "execution_count": 11,
   "metadata": {
    "scrolled": true
   },
   "outputs": [
    {
     "ename": "LoadError",
     "evalue": "MethodError: no method matching iterate(::VariationalMessage{Tuple{ReactiveMP.MessageObservable{Message}}, Tuple{SingleObservable{Marginal{PointMass{Matrix{Float64}}, Nothing}, AsapScheduler}}, ReactiveMP.MessageMapping{MvNormalMeanCovariance, Val{:out}, Marginalisation, Val{(:μ,)}, Val{(:Σ,)}, Nothing, Nothing, Nothing}})\n\u001b[0mClosest candidates are:\n\u001b[0m  iterate(\u001b[91m::Union{LinRange, StepRangeLen}\u001b[39m) at range.jl:872\n\u001b[0m  iterate(\u001b[91m::Union{LinRange, StepRangeLen}\u001b[39m, \u001b[91m::Integer\u001b[39m) at range.jl:872\n\u001b[0m  iterate(\u001b[91m::T\u001b[39m) where T<:Union{Base.KeySet{<:Any, <:Dict}, Base.ValueIterator{<:Dict}} at dict.jl:712\n\u001b[0m  ...",
     "output_type": "error",
     "traceback": [
      "MethodError: no method matching iterate(::VariationalMessage{Tuple{ReactiveMP.MessageObservable{Message}}, Tuple{SingleObservable{Marginal{PointMass{Matrix{Float64}}, Nothing}, AsapScheduler}}, ReactiveMP.MessageMapping{MvNormalMeanCovariance, Val{:out}, Marginalisation, Val{(:μ,)}, Val{(:Σ,)}, Nothing, Nothing, Nothing}})\n\u001b[0mClosest candidates are:\n\u001b[0m  iterate(\u001b[91m::Union{LinRange, StepRangeLen}\u001b[39m) at range.jl:872\n\u001b[0m  iterate(\u001b[91m::Union{LinRange, StepRangeLen}\u001b[39m, \u001b[91m::Integer\u001b[39m) at range.jl:872\n\u001b[0m  iterate(\u001b[91m::T\u001b[39m) where T<:Union{Base.KeySet{<:Any, <:Dict}, Base.ValueIterator{<:Dict}} at dict.jl:712\n\u001b[0m  ...",
      "",
      "Stacktrace:",
      "   [1] mean(f::typeof(identity), itr::VariationalMessage{Tuple{ReactiveMP.MessageObservable{Message}}, Tuple{SingleObservable{Marginal{PointMass{Matrix{Float64}}, Nothing}, AsapScheduler}}, ReactiveMP.MessageMapping{MvNormalMeanCovariance, Val{:out}, Marginalisation, Val{(:μ,)}, Val{(:Σ,)}, Nothing, Nothing, Nothing}})",
      "     @ Statistics /usr/share/julia/julia-1.8.3/share/julia/stdlib/v1.8/Statistics/src/Statistics.jl:62",
      "   [2] mean(itr::VariationalMessage{Tuple{ReactiveMP.MessageObservable{Message}}, Tuple{SingleObservable{Marginal{PointMass{Matrix{Float64}}, Nothing}, AsapScheduler}}, ReactiveMP.MessageMapping{MvNormalMeanCovariance, Val{:out}, Marginalisation, Val{(:μ,)}, Val{(:Σ,)}, Nothing, Nothing, Nothing}})",
      "     @ Statistics /usr/share/julia/julia-1.8.3/share/julia/stdlib/v1.8/Statistics/src/Statistics.jl:44",
      "   [3] mean_cov(something::VariationalMessage{Tuple{ReactiveMP.MessageObservable{Message}}, Tuple{SingleObservable{Marginal{PointMass{Matrix{Float64}}, Nothing}, AsapScheduler}}, ReactiveMP.MessageMapping{MvNormalMeanCovariance, Val{:out}, Marginalisation, Val{(:μ,)}, Val{(:Σ,)}, Nothing, Nothing, Nothing}})",
      "     @ ReactiveMP ~/.julia/packages/ReactiveMP/Dm45i/src/distributions.jl:20",
      "   [4] (::var\"#3#5\"{DataVariable{PointMass{Matrix{Float64}}, Rocket.RecentSubjectInstance{Message{PointMass{Matrix{Float64}}}, Subject{Message{PointMass{Matrix{Float64}}}, AsapScheduler, AsapScheduler}}}, DataVariable{PointMass{Vector{Float64}}, Rocket.RecentSubjectInstance{Message{PointMass{Vector{Float64}}}, Subject{Message{PointMass{Vector{Float64}}}, AsapScheduler, AsapScheduler}}}})(prediction_z_1::VariationalMessage{Tuple{ReactiveMP.MessageObservable{Message}}, Tuple{SingleObservable{Marginal{PointMass{Matrix{Float64}}, Nothing}, AsapScheduler}}, ReactiveMP.MessageMapping{MvNormalMeanCovariance, Val{:out}, Marginalisation, Val{(:μ,)}, Val{(:Σ,)}, Nothing, Nothing, Nothing}})",
      "     @ Main ./In[8]:23",
      "   [5] on_next!(actor::FunctionActor{AbstractMessage, var\"#3#5\"{DataVariable{PointMass{Matrix{Float64}}, Rocket.RecentSubjectInstance{Message{PointMass{Matrix{Float64}}}, Subject{Message{PointMass{Matrix{Float64}}}, AsapScheduler, AsapScheduler}}}, DataVariable{PointMass{Vector{Float64}}, Rocket.RecentSubjectInstance{Message{PointMass{Vector{Float64}}}, Subject{Message{PointMass{Vector{Float64}}}, AsapScheduler, AsapScheduler}}}}}, data::VariationalMessage{Tuple{ReactiveMP.MessageObservable{Message}}, Tuple{SingleObservable{Marginal{PointMass{Matrix{Float64}}, Nothing}, AsapScheduler}}, ReactiveMP.MessageMapping{MvNormalMeanCovariance, Val{:out}, Marginalisation, Val{(:μ,)}, Val{(:Σ,)}, Nothing, Nothing, Nothing}})",
      "     @ Rocket ~/.julia/packages/Rocket/EGm1W/src/actor/function.jl:32",
      "   [6] scheduled_next!(actor::FunctionActor{AbstractMessage, var\"#3#5\"{DataVariable{PointMass{Matrix{Float64}}, Rocket.RecentSubjectInstance{Message{PointMass{Matrix{Float64}}}, Subject{Message{PointMass{Matrix{Float64}}}, AsapScheduler, AsapScheduler}}}, DataVariable{PointMass{Vector{Float64}}, Rocket.RecentSubjectInstance{Message{PointMass{Vector{Float64}}}, Subject{Message{PointMass{Vector{Float64}}}, AsapScheduler, AsapScheduler}}}}}, value::VariationalMessage{Tuple{ReactiveMP.MessageObservable{Message}}, Tuple{SingleObservable{Marginal{PointMass{Matrix{Float64}}, Nothing}, AsapScheduler}}, ReactiveMP.MessageMapping{MvNormalMeanCovariance, Val{:out}, Marginalisation, Val{(:μ,)}, Val{(:Σ,)}, Nothing, Nothing, Nothing}}, #unused#::AsapScheduler)",
      "     @ Rocket ~/.julia/packages/Rocket/EGm1W/src/schedulers/asap.jl:23",
      "   [7] on_next!(subject::Subject{AbstractMessage, AsapScheduler, AsapScheduler}, data::VariationalMessage{Tuple{ReactiveMP.MessageObservable{Message}}, Tuple{SingleObservable{Marginal{PointMass{Matrix{Float64}}, Nothing}, AsapScheduler}}, ReactiveMP.MessageMapping{MvNormalMeanCovariance, Val{:out}, Marginalisation, Val{(:μ,)}, Val{(:Σ,)}, Nothing, Nothing, Nothing}})",
      "     @ Rocket ~/.julia/packages/Rocket/EGm1W/src/subjects/subject.jl:62",
      "   [8] actor_on_next!",
      "     @ ~/.julia/packages/Rocket/EGm1W/src/actor.jl:250 [inlined]",
      "   [9] next!",
      "     @ ~/.julia/packages/Rocket/EGm1W/src/actor.jl:202 [inlined]",
      "  [10] on_next!",
      "     @ ~/.julia/packages/Rocket/EGm1W/src/subjects/recent.jl:62 [inlined]",
      "  [11] actor_on_next!",
      "     @ ~/.julia/packages/Rocket/EGm1W/src/actor.jl:250 [inlined]",
      "  [12] next!",
      "     @ ~/.julia/packages/Rocket/EGm1W/src/actor.jl:202 [inlined]",
      "  [13] on_next!",
      "     @ ~/.julia/packages/Rocket/EGm1W/src/operators/map.jl:62 [inlined]",
      "  [14] next!",
      "     @ ~/.julia/packages/Rocket/EGm1W/src/actor.jl:206 [inlined]",
      "  [15] next_received!",
      "     @ ~/.julia/packages/Rocket/EGm1W/src/observable/combined.jl:101 [inlined]",
      "  [16] on_next!",
      "     @ ~/.julia/packages/Rocket/EGm1W/src/observable/combined.jl:68 [inlined]",
      "  [17] next!",
      "     @ ~/.julia/packages/Rocket/EGm1W/src/actor.jl:206 [inlined]",
      "  [18] next_received!",
      "     @ ~/.julia/packages/Rocket/EGm1W/src/observable/combined_updates.jl:65 [inlined]",
      "  [19] on_next!",
      "     @ ~/.julia/packages/Rocket/EGm1W/src/observable/combined_updates.jl:34 [inlined]",
      "  [20] scheduled_next!(actor::Rocket.CombineLatestUpdatesInnerActor{Message, Rocket.CombineLatestUpdatesActorWrapper{Tuple{ReactiveMP.MessageObservable{Message}}, Rocket.CombineLatestInnerActor{Tuple{ReactiveMP.MessageObservable{Message}}, Rocket.CombineLatestActorWrapper{Rocket.MStorage2{Tuple{ReactiveMP.MessageObservable{Message}}, Tuple{SingleObservable{Marginal{PointMass{Matrix{Float64}}, Nothing}, AsapScheduler}}}, Rocket.MapActor{Tuple{Tuple{ReactiveMP.MessageObservable{Message}}, Tuple{SingleObservable{Marginal{PointMass{Matrix{Float64}}, Nothing}, AsapScheduler}}}, Rocket.RecentSubjectInstance{AbstractMessage, Subject{AbstractMessage, AsapScheduler, AsapScheduler}}, ReactiveMP.var\"#291#292\"{ReactiveMP.MessageMapping{MvNormalMeanCovariance, Val{:out}, Marginalisation, Val{(:μ,)}, Val{(:Σ,)}, Nothing, Nothing, Nothing}}}, PushNew, Rocket.UInt8UpdatesStatus}}, PushNew, Rocket.UInt8UpdatesStatus}}, value::Message{MvNormalMeanCovariance{Float64, Vector{Float64}, Matrix{Float64}}, Nothing}, #unused#::AsapScheduler)",
      "     @ Rocket ~/.julia/packages/Rocket/EGm1W/src/schedulers/asap.jl:23",
      "  [21] on_next!(subject::Subject{Message, AsapScheduler, AsapScheduler}, data::Message{MvNormalMeanCovariance{Float64, Vector{Float64}, Matrix{Float64}}, Nothing})",
      "     @ Rocket ~/.julia/packages/Rocket/EGm1W/src/subjects/subject.jl:62",
      "  [22] actor_on_next!",
      "     @ ~/.julia/packages/Rocket/EGm1W/src/actor.jl:250 [inlined]",
      "  [23] next!",
      "     @ ~/.julia/packages/Rocket/EGm1W/src/actor.jl:202 [inlined]",
      "  [24] on_next!",
      "     @ ~/.julia/packages/Rocket/EGm1W/src/subjects/recent.jl:62 [inlined]",
      "  [25] actor_on_next!",
      "     @ ~/.julia/packages/Rocket/EGm1W/src/actor.jl:250 [inlined]",
      "  [26] next!(actor::Rocket.RecentSubjectInstance{Message, Subject{Message, AsapScheduler, AsapScheduler}}, data::Message{MvNormalMeanCovariance{Float64, Vector{Float64}, Matrix{Float64}}, Nothing})",
      "     @ Rocket ~/.julia/packages/Rocket/EGm1W/src/actor.jl:202",
      "  [27] next_received!(wrapper::Rocket.CollectLatestObservableWrapper{AbstractMessage, Rocket.RecentSubjectInstance{Message, Subject{Message, AsapScheduler, AsapScheduler}}, Vector{AbstractMessage}, BitVector, Vector{Teardown}, ReactiveMP.var\"#25#27\"{ProdAnalytical, UnspecifiedFormConstraint}}, data::VariationalMessage{Tuple{ReactiveMP.MessageObservable{Message}, ReactiveMP.MessageObservable{Message}}, Nothing, ReactiveMP.MessageMapping{typeof(+), Val{:out}, Marginalisation, Val{(:in1, :in2)}, Nothing, Nothing, Nothing, Nothing}}, index::CartesianIndex{1})",
      "     @ Rocket ~/.julia/packages/Rocket/EGm1W/src/observable/collected.jl:97",
      "  [28] on_next!",
      "     @ ~/.julia/packages/Rocket/EGm1W/src/observable/collected.jl:87 [inlined]",
      "--- the last 23 lines are repeated 3 more times ---",
      "  [98] scheduled_next!(actor::Rocket.CollectLatestObservableInnerActor{AbstractMessage, CartesianIndex{1}, Rocket.CollectLatestObservableWrapper{AbstractMessage, Rocket.RecentSubjectInstance{Message, Subject{Message, AsapScheduler, AsapScheduler}}, Vector{AbstractMessage}, BitVector, Vector{Teardown}, ReactiveMP.var\"#25#27\"{ProdAnalytical, UnspecifiedFormConstraint}}}, value::VariationalMessage{Nothing, Tuple{ProxyObservable{Marginal, Rocket.RecentSubjectInstance{Message{PointMass{Vector{Float64}}}, Subject{Message{PointMass{Vector{Float64}}}, AsapScheduler, AsapScheduler}}, Rocket.MapProxy{Message{PointMass{Vector{Float64}}}, typeof(as_marginal)}}, SingleObservable{Marginal{PointMass{Matrix{Float64}}, Nothing}, AsapScheduler}}, ReactiveMP.MessageMapping{MvNormalMeanCovariance, Val{:μ}, Marginalisation, Nothing, Val{(:out, :Σ)}, Nothing, Nothing, Nothing}}, #unused#::AsapScheduler)",
      "     @ Rocket ~/.julia/packages/Rocket/EGm1W/src/schedulers/asap.jl:23",
      "  [99] on_next!(subject::Subject{AbstractMessage, AsapScheduler, AsapScheduler}, data::VariationalMessage{Nothing, Tuple{ProxyObservable{Marginal, Rocket.RecentSubjectInstance{Message{PointMass{Vector{Float64}}}, Subject{Message{PointMass{Vector{Float64}}}, AsapScheduler, AsapScheduler}}, Rocket.MapProxy{Message{PointMass{Vector{Float64}}}, typeof(as_marginal)}}, SingleObservable{Marginal{PointMass{Matrix{Float64}}, Nothing}, AsapScheduler}}, ReactiveMP.MessageMapping{MvNormalMeanCovariance, Val{:μ}, Marginalisation, Nothing, Val{(:out, :Σ)}, Nothing, Nothing, Nothing}})",
      "     @ Rocket ~/.julia/packages/Rocket/EGm1W/src/subjects/subject.jl:62",
      " [100] actor_on_next!",
      "     @ ~/.julia/packages/Rocket/EGm1W/src/actor.jl:250 [inlined]",
      " [101] next!",
      "     @ ~/.julia/packages/Rocket/EGm1W/src/actor.jl:202 [inlined]",
      " [102] on_next!",
      "     @ ~/.julia/packages/Rocket/EGm1W/src/subjects/recent.jl:62 [inlined]",
      " [103] actor_on_next!",
      "     @ ~/.julia/packages/Rocket/EGm1W/src/actor.jl:250 [inlined]",
      " [104] next!",
      "     @ ~/.julia/packages/Rocket/EGm1W/src/actor.jl:202 [inlined]",
      " [105] on_next!",
      "     @ ~/.julia/packages/Rocket/EGm1W/src/operators/map.jl:62 [inlined]",
      " [106] next!",
      "     @ ~/.julia/packages/Rocket/EGm1W/src/actor.jl:206 [inlined]",
      " [107] next_received!",
      "     @ ~/.julia/packages/Rocket/EGm1W/src/observable/combined.jl:101 [inlined]",
      " [108] on_next!",
      "     @ ~/.julia/packages/Rocket/EGm1W/src/observable/combined.jl:68 [inlined]",
      " [109] next!",
      "     @ ~/.julia/packages/Rocket/EGm1W/src/actor.jl:206 [inlined]",
      " [110] next_received!",
      "     @ ~/.julia/packages/Rocket/EGm1W/src/observable/combined_updates.jl:65 [inlined]",
      " [111] on_next!",
      "     @ ~/.julia/packages/Rocket/EGm1W/src/observable/combined_updates.jl:34 [inlined]",
      " [112] next!",
      "     @ ~/.julia/packages/Rocket/EGm1W/src/actor.jl:206 [inlined]",
      " [113] on_next!",
      "     @ ~/.julia/packages/Rocket/EGm1W/src/operators/map.jl:62 [inlined]",
      " [114] scheduled_next!(actor::Rocket.MapActor{Message{PointMass{Vector{Float64}}}, Rocket.CombineLatestUpdatesInnerActor{Marginal, Rocket.CombineLatestUpdatesActorWrapper{Tuple{ProxyObservable{Marginal, Rocket.RecentSubjectInstance{Message{PointMass{Vector{Float64}}}, Subject{Message{PointMass{Vector{Float64}}}, AsapScheduler, AsapScheduler}}, Rocket.MapProxy{Message{PointMass{Vector{Float64}}}, typeof(as_marginal)}}, SingleObservable{Marginal{PointMass{Matrix{Float64}}, Nothing}, AsapScheduler}}, Rocket.CombineLatestInnerActor{Tuple{ProxyObservable{Marginal, Rocket.RecentSubjectInstance{Message{PointMass{Vector{Float64}}}, Subject{Message{PointMass{Vector{Float64}}}, AsapScheduler, AsapScheduler}}, Rocket.MapProxy{Message{PointMass{Vector{Float64}}}, typeof(as_marginal)}}, SingleObservable{Marginal{PointMass{Matrix{Float64}}, Nothing}, AsapScheduler}}, Rocket.CombineLatestActorWrapper{Rocket.MStorage2{Nothing, Tuple{ProxyObservable{Marginal, Rocket.RecentSubjectInstance{Message{PointMass{Vector{Float64}}}, Subject{Message{PointMass{Vector{Float64}}}, AsapScheduler, AsapScheduler}}, Rocket.MapProxy{Message{PointMass{Vector{Float64}}}, typeof(as_marginal)}}, SingleObservable{Marginal{PointMass{Matrix{Float64}}, Nothing}, AsapScheduler}}}, Rocket.MapActor{Tuple{Nothing, Tuple{ProxyObservable{Marginal, Rocket.RecentSubjectInstance{Message{PointMass{Vector{Float64}}}, Subject{Message{PointMass{Vector{Float64}}}, AsapScheduler, AsapScheduler}}, Rocket.MapProxy{Message{PointMass{Vector{Float64}}}, typeof(as_marginal)}}, SingleObservable{Marginal{PointMass{Matrix{Float64}}, Nothing}, AsapScheduler}}}, Rocket.RecentSubjectInstance{AbstractMessage, Subject{AbstractMessage, AsapScheduler, AsapScheduler}}, ReactiveMP.var\"#291#292\"{ReactiveMP.MessageMapping{MvNormalMeanCovariance, Val{:μ}, Marginalisation, Nothing, Val{(:out, :Σ)}, Nothing, Nothing, Nothing}}}, PushNew, Rocket.UInt8UpdatesStatus}}, PushNew, Rocket.UInt8UpdatesStatus}}, typeof(as_marginal)}, value::Message{PointMass{Vector{Float64}}, Nothing}, #unused#::AsapScheduler)",
      "     @ Rocket ~/.julia/packages/Rocket/EGm1W/src/schedulers/asap.jl:23",
      " [115] on_next!(subject::Subject{Message{PointMass{Vector{Float64}}}, AsapScheduler, AsapScheduler}, data::Message{PointMass{Vector{Float64}}, Nothing})",
      "     @ Rocket ~/.julia/packages/Rocket/EGm1W/src/subjects/subject.jl:62",
      " [116] actor_on_next!",
      "     @ ~/.julia/packages/Rocket/EGm1W/src/actor.jl:250 [inlined]",
      " [117] next!",
      "     @ ~/.julia/packages/Rocket/EGm1W/src/actor.jl:202 [inlined]",
      " [118] on_next!",
      "     @ ~/.julia/packages/Rocket/EGm1W/src/subjects/recent.jl:62 [inlined]",
      " [119] actor_on_next!",
      "     @ ~/.julia/packages/Rocket/EGm1W/src/actor.jl:250 [inlined]",
      " [120] next!",
      "     @ ~/.julia/packages/Rocket/EGm1W/src/actor.jl:202 [inlined]",
      " [121] update!",
      "     @ ~/.julia/packages/ReactiveMP/Dm45i/src/variables/data.jl:143 [inlined]",
      " [122] update!(datavar::DataVariable{PointMass{Vector{Float64}}, Rocket.RecentSubjectInstance{Message{PointMass{Vector{Float64}}}, Subject{Message{PointMass{Vector{Float64}}}, AsapScheduler, AsapScheduler}}}, data::Vector{Float64})",
      "     @ ReactiveMP ~/.julia/packages/ReactiveMP/Dm45i/src/variables/data.jl:120",
      " [123] on_next!(model::PlanningModel, event::NewObservationFromEnvironment)",
      "     @ Main ./In[9]:4",
      " [124] next!",
      "     @ ~/.julia/packages/Rocket/EGm1W/src/actor.jl:206 [inlined]",
      " [125] on_subscribe!",
      "     @ ~/.julia/packages/Rocket/EGm1W/src/subjects/behavior.jl:83 [inlined]",
      " [126] subscribe!(subject::Rocket.BehaviorSubjectInstance{NewObservationFromEnvironment, Subject{NewObservationFromEnvironment, AsapScheduler, AsapScheduler}}, actor::PlanningModel)",
      "     @ Rocket ~/.julia/packages/Rocket/EGm1W/src/subject.jl:53"
     ]
    }
   ],
   "source": [
    "env_to_model_subscription = subscribe!(environment.events,       model)\n",
    "model_to_env_subscription = subscribe!(model.events,       environment)"
   ]
  },
  {
   "cell_type": "markdown",
   "metadata": {},
   "source": [
    "We trigger each loop on a timer. In principle this is not necessary, since the loop continually updates once all datavariables are filled in. So any mechanism for setting variables will work, for example having the agent listen to an external sensor"
   ]
  },
  {
   "cell_type": "code",
   "execution_count": 12,
   "metadata": {},
   "outputs": [],
   "source": [
    "t = timer(0, 100); # Update once every second"
   ]
  },
  {
   "cell_type": "code",
   "execution_count": 13,
   "metadata": {},
   "outputs": [],
   "source": [
    "# Set goal priors every time the timer ticks. This fills in the remaining datavars and triggers a round\n",
    "# of message passing\n",
    "timer_subscription = subscribe!(t, (_) -> begin \n",
    "    let \n",
    "        (x, x_0, z, znodes, u, zcm, zcc) = model.model_variables\n",
    "        update!(x, goals)\n",
    "    end\n",
    "end)\n",
    ";"
   ]
  },
  {
   "cell_type": "markdown",
   "metadata": {},
   "source": [
    "We can also update the agents goals on a slower time scale. To do this we can set a different timer, add a subscription and listen to it. In principle we could run a separate agent here and have it emit goal states."
   ]
  },
  {
   "cell_type": "code",
   "execution_count": 14,
   "metadata": {},
   "outputs": [
    {
     "data": {
      "text/plain": [
       "TimerSubscription()"
      ]
     },
     "execution_count": 14,
     "metadata": {},
     "output_type": "execute_result"
    }
   ],
   "source": [
    "goals_timer = timer(0, 500)\n",
    "\n",
    "goals_subscription = subscribe!(goals_timer, (index) -> begin\n",
    "    x = sin(index / π)\n",
    "    y = cos(index / π)\n",
    "    new_goal = [ x, y ]\n",
    "    # println(\"We have a new goal: \", new_goal,\"\\n\")\n",
    "    for i in 1:T\n",
    "        copyto!(goals[i], new_goal)\n",
    "    end\n",
    "end)"
   ]
  },
  {
   "cell_type": "code",
   "execution_count": 15,
   "metadata": {},
   "outputs": [],
   "source": [
    "# Initial plotting for compilation\n",
    "plot(1:10, 1:10);"
   ]
  },
  {
   "cell_type": "code",
   "execution_count": 16,
   "metadata": {},
   "outputs": [],
   "source": [
    "struct PlotActor <: Actor{Any} \n",
    "    previous\n",
    "    \n",
    "    PlotActor() = new([])\n",
    "end\n",
    "\n",
    "function Rocket.on_next!(actor::PlotActor, event::NewObservationFromEnvironment)\n",
    "    push!(actor.previous, event)\n",
    "    \n",
    "    pick = 50\n",
    "    \n",
    "    range = max(1, length(actor.previous) - pick):length(actor.previous)\n",
    "    \n",
    "    p = plot(ylims = (-2, 2))\n",
    "    p = plot!(p, range, map(e -> e.observation[1], actor.previous[range]), label = \"Real state\")\n",
    "    p = hline!(p, [ goals[1][1] ], label = \"Goal state\")\n",
    "    \n",
    "    IJulia.clear_output(true);\n",
    "    display(p)\n",
    "end"
   ]
  },
  {
   "cell_type": "code",
   "execution_count": 17,
   "metadata": {
    "scrolled": false
   },
   "outputs": [
    {
     "data": {
      "image/svg+xml": [
       "<?xml version=\"1.0\" encoding=\"utf-8\"?>\n",
       "<svg xmlns=\"http://www.w3.org/2000/svg\" xmlns:xlink=\"http://www.w3.org/1999/xlink\" width=\"600\" height=\"400\" viewBox=\"0 0 2400 1600\">\n",
       "<defs>\n",
       "  <clipPath id=\"clip360\">\n",
       "    <rect x=\"0\" y=\"0\" width=\"2400\" height=\"1600\"/>\n",
       "  </clipPath>\n",
       "</defs>\n",
       "<path clip-path=\"url(#clip360)\" d=\"M0 1600 L2400 1600 L2400 0 L0 0  Z\" fill=\"#ffffff\" fill-rule=\"evenodd\" fill-opacity=\"1\"/>\n",
       "<defs>\n",
       "  <clipPath id=\"clip361\">\n",
       "    <rect x=\"480\" y=\"0\" width=\"1681\" height=\"1600\"/>\n",
       "  </clipPath>\n",
       "</defs>\n",
       "<path clip-path=\"url(#clip360)\" d=\"M147.478 1486.45 L2352.76 1486.45 L2352.76 47.2441 L147.478 47.2441  Z\" fill=\"#ffffff\" fill-rule=\"evenodd\" fill-opacity=\"1\"/>\n",
       "<defs>\n",
       "  <clipPath id=\"clip362\">\n",
       "    <rect x=\"147\" y=\"47\" width=\"2206\" height=\"1440\"/>\n",
       "  </clipPath>\n",
       "</defs>\n",
       "<polyline clip-path=\"url(#clip362)\" style=\"stroke:#000000; stroke-linecap:round; stroke-linejoin:round; stroke-width:2; stroke-opacity:0.1; fill:none\" points=\"209.891,1486.45 209.891,47.2441 \"/>\n",
       "<polyline clip-path=\"url(#clip362)\" style=\"stroke:#000000; stroke-linecap:round; stroke-linejoin:round; stroke-width:2; stroke-opacity:0.1; fill:none\" points=\"730.004,1486.45 730.004,47.2441 \"/>\n",
       "<polyline clip-path=\"url(#clip362)\" style=\"stroke:#000000; stroke-linecap:round; stroke-linejoin:round; stroke-width:2; stroke-opacity:0.1; fill:none\" points=\"1250.12,1486.45 1250.12,47.2441 \"/>\n",
       "<polyline clip-path=\"url(#clip362)\" style=\"stroke:#000000; stroke-linecap:round; stroke-linejoin:round; stroke-width:2; stroke-opacity:0.1; fill:none\" points=\"1770.23,1486.45 1770.23,47.2441 \"/>\n",
       "<polyline clip-path=\"url(#clip362)\" style=\"stroke:#000000; stroke-linecap:round; stroke-linejoin:round; stroke-width:2; stroke-opacity:0.1; fill:none\" points=\"2290.34,1486.45 2290.34,47.2441 \"/>\n",
       "<polyline clip-path=\"url(#clip360)\" style=\"stroke:#000000; stroke-linecap:round; stroke-linejoin:round; stroke-width:4; stroke-opacity:1; fill:none\" points=\"147.478,1486.45 2352.76,1486.45 \"/>\n",
       "<polyline clip-path=\"url(#clip360)\" style=\"stroke:#000000; stroke-linecap:round; stroke-linejoin:round; stroke-width:4; stroke-opacity:1; fill:none\" points=\"209.891,1486.45 209.891,1467.55 \"/>\n",
       "<polyline clip-path=\"url(#clip360)\" style=\"stroke:#000000; stroke-linecap:round; stroke-linejoin:round; stroke-width:4; stroke-opacity:1; fill:none\" points=\"730.004,1486.45 730.004,1467.55 \"/>\n",
       "<polyline clip-path=\"url(#clip360)\" style=\"stroke:#000000; stroke-linecap:round; stroke-linejoin:round; stroke-width:4; stroke-opacity:1; fill:none\" points=\"1250.12,1486.45 1250.12,1467.55 \"/>\n",
       "<polyline clip-path=\"url(#clip360)\" style=\"stroke:#000000; stroke-linecap:round; stroke-linejoin:round; stroke-width:4; stroke-opacity:1; fill:none\" points=\"1770.23,1486.45 1770.23,1467.55 \"/>\n",
       "<polyline clip-path=\"url(#clip360)\" style=\"stroke:#000000; stroke-linecap:round; stroke-linejoin:round; stroke-width:4; stroke-opacity:1; fill:none\" points=\"2290.34,1486.45 2290.34,1467.55 \"/>\n",
       "<path clip-path=\"url(#clip360)\" d=\"M161.963 1544.91 L169.602 1544.91 L169.602 1518.55 L161.292 1520.21 L161.292 1515.95 L169.556 1514.29 L174.232 1514.29 L174.232 1544.91 L181.871 1544.91 L181.871 1548.85 L161.963 1548.85 L161.963 1544.91 Z\" fill=\"#000000\" fill-rule=\"nonzero\" fill-opacity=\"1\" /><path clip-path=\"url(#clip360)\" d=\"M191.315 1542.97 L196.199 1542.97 L196.199 1548.85 L191.315 1548.85 L191.315 1542.97 Z\" fill=\"#000000\" fill-rule=\"nonzero\" fill-opacity=\"1\" /><path clip-path=\"url(#clip360)\" d=\"M216.384 1517.37 Q212.773 1517.37 210.945 1520.93 Q209.139 1524.47 209.139 1531.6 Q209.139 1538.71 210.945 1542.27 Q212.773 1545.82 216.384 1545.82 Q220.019 1545.82 221.824 1542.27 Q223.653 1538.71 223.653 1531.6 Q223.653 1524.47 221.824 1520.93 Q220.019 1517.37 216.384 1517.37 M216.384 1513.66 Q222.195 1513.66 225.25 1518.27 Q228.329 1522.85 228.329 1531.6 Q228.329 1540.33 225.25 1544.94 Q222.195 1549.52 216.384 1549.52 Q210.574 1549.52 207.496 1544.94 Q204.44 1540.33 204.44 1531.6 Q204.44 1522.85 207.496 1518.27 Q210.574 1513.66 216.384 1513.66 Z\" fill=\"#000000\" fill-rule=\"nonzero\" fill-opacity=\"1\" /><path clip-path=\"url(#clip360)\" d=\"M246.546 1517.37 Q242.935 1517.37 241.107 1520.93 Q239.301 1524.47 239.301 1531.6 Q239.301 1538.71 241.107 1542.27 Q242.935 1545.82 246.546 1545.82 Q250.181 1545.82 251.986 1542.27 Q253.815 1538.71 253.815 1531.6 Q253.815 1524.47 251.986 1520.93 Q250.181 1517.37 246.546 1517.37 M246.546 1513.66 Q252.356 1513.66 255.412 1518.27 Q258.491 1522.85 258.491 1531.6 Q258.491 1540.33 255.412 1544.94 Q252.356 1549.52 246.546 1549.52 Q240.736 1549.52 237.657 1544.94 Q234.602 1540.33 234.602 1531.6 Q234.602 1522.85 237.657 1518.27 Q240.736 1513.66 246.546 1513.66 Z\" fill=\"#000000\" fill-rule=\"nonzero\" fill-opacity=\"1\" /><path clip-path=\"url(#clip360)\" d=\"M682.574 1544.91 L690.213 1544.91 L690.213 1518.55 L681.903 1520.21 L681.903 1515.95 L690.166 1514.29 L694.842 1514.29 L694.842 1544.91 L702.481 1544.91 L702.481 1548.85 L682.574 1548.85 L682.574 1544.91 Z\" fill=\"#000000\" fill-rule=\"nonzero\" fill-opacity=\"1\" /><path clip-path=\"url(#clip360)\" d=\"M711.926 1542.97 L716.81 1542.97 L716.81 1548.85 L711.926 1548.85 L711.926 1542.97 Z\" fill=\"#000000\" fill-rule=\"nonzero\" fill-opacity=\"1\" /><path clip-path=\"url(#clip360)\" d=\"M731.023 1544.91 L747.342 1544.91 L747.342 1548.85 L725.398 1548.85 L725.398 1544.91 Q728.06 1542.16 732.643 1537.53 Q737.25 1532.88 738.43 1531.53 Q740.675 1529.01 741.555 1527.27 Q742.458 1525.51 742.458 1523.82 Q742.458 1521.07 740.513 1519.33 Q738.592 1517.6 735.49 1517.6 Q733.291 1517.6 730.838 1518.36 Q728.407 1519.13 725.629 1520.68 L725.629 1515.95 Q728.453 1514.82 730.907 1514.24 Q733.361 1513.66 735.398 1513.66 Q740.768 1513.66 743.962 1516.35 Q747.157 1519.03 747.157 1523.52 Q747.157 1525.65 746.347 1527.57 Q745.56 1529.47 743.453 1532.07 Q742.874 1532.74 739.773 1535.95 Q736.671 1539.15 731.023 1544.91 Z\" fill=\"#000000\" fill-rule=\"nonzero\" fill-opacity=\"1\" /><path clip-path=\"url(#clip360)\" d=\"M757.203 1514.29 L775.559 1514.29 L775.559 1518.22 L761.485 1518.22 L761.485 1526.7 Q762.504 1526.35 763.523 1526.19 Q764.541 1526 765.56 1526 Q771.347 1526 774.726 1529.17 Q778.106 1532.34 778.106 1537.76 Q778.106 1543.34 774.634 1546.44 Q771.161 1549.52 764.842 1549.52 Q762.666 1549.52 760.398 1549.15 Q758.152 1548.78 755.745 1548.04 L755.745 1543.34 Q757.828 1544.47 760.05 1545.03 Q762.273 1545.58 764.749 1545.58 Q768.754 1545.58 771.092 1543.48 Q773.43 1541.37 773.43 1537.76 Q773.43 1534.15 771.092 1532.04 Q768.754 1529.94 764.749 1529.94 Q762.874 1529.94 760.999 1530.35 Q759.148 1530.77 757.203 1531.65 L757.203 1514.29 Z\" fill=\"#000000\" fill-rule=\"nonzero\" fill-opacity=\"1\" /><path clip-path=\"url(#clip360)\" d=\"M1202.19 1544.91 L1209.83 1544.91 L1209.83 1518.55 L1201.52 1520.21 L1201.52 1515.95 L1209.78 1514.29 L1214.46 1514.29 L1214.46 1544.91 L1222.1 1544.91 L1222.1 1548.85 L1202.19 1548.85 L1202.19 1544.91 Z\" fill=\"#000000\" fill-rule=\"nonzero\" fill-opacity=\"1\" /><path clip-path=\"url(#clip360)\" d=\"M1231.54 1542.97 L1236.42 1542.97 L1236.42 1548.85 L1231.54 1548.85 L1231.54 1542.97 Z\" fill=\"#000000\" fill-rule=\"nonzero\" fill-opacity=\"1\" /><path clip-path=\"url(#clip360)\" d=\"M1246.66 1514.29 L1265.01 1514.29 L1265.01 1518.22 L1250.94 1518.22 L1250.94 1526.7 Q1251.96 1526.35 1252.98 1526.19 Q1253.99 1526 1255.01 1526 Q1260.8 1526 1264.18 1529.17 Q1267.56 1532.34 1267.56 1537.76 Q1267.56 1543.34 1264.09 1546.44 Q1260.61 1549.52 1254.3 1549.52 Q1252.12 1549.52 1249.85 1549.15 Q1247.61 1548.78 1245.2 1548.04 L1245.2 1543.34 Q1247.28 1544.47 1249.5 1545.03 Q1251.73 1545.58 1254.2 1545.58 Q1258.21 1545.58 1260.55 1543.48 Q1262.88 1541.37 1262.88 1537.76 Q1262.88 1534.15 1260.55 1532.04 Q1258.21 1529.94 1254.2 1529.94 Q1252.33 1529.94 1250.45 1530.35 Q1248.6 1530.77 1246.66 1531.65 L1246.66 1514.29 Z\" fill=\"#000000\" fill-rule=\"nonzero\" fill-opacity=\"1\" /><path clip-path=\"url(#clip360)\" d=\"M1286.77 1517.37 Q1283.16 1517.37 1281.33 1520.93 Q1279.53 1524.47 1279.53 1531.6 Q1279.53 1538.71 1281.33 1542.27 Q1283.16 1545.82 1286.77 1545.82 Q1290.41 1545.82 1292.21 1542.27 Q1294.04 1538.71 1294.04 1531.6 Q1294.04 1524.47 1292.21 1520.93 Q1290.41 1517.37 1286.77 1517.37 M1286.77 1513.66 Q1292.58 1513.66 1295.64 1518.27 Q1298.72 1522.85 1298.72 1531.6 Q1298.72 1540.33 1295.64 1544.94 Q1292.58 1549.52 1286.77 1549.52 Q1280.96 1549.52 1277.88 1544.94 Q1274.83 1540.33 1274.83 1531.6 Q1274.83 1522.85 1277.88 1518.27 Q1280.96 1513.66 1286.77 1513.66 Z\" fill=\"#000000\" fill-rule=\"nonzero\" fill-opacity=\"1\" /><path clip-path=\"url(#clip360)\" d=\"M1722.8 1544.91 L1730.44 1544.91 L1730.44 1518.55 L1722.13 1520.21 L1722.13 1515.95 L1730.39 1514.29 L1735.07 1514.29 L1735.07 1544.91 L1742.71 1544.91 L1742.71 1548.85 L1722.8 1548.85 L1722.8 1544.91 Z\" fill=\"#000000\" fill-rule=\"nonzero\" fill-opacity=\"1\" /><path clip-path=\"url(#clip360)\" d=\"M1752.15 1542.97 L1757.04 1542.97 L1757.04 1548.85 L1752.15 1548.85 L1752.15 1542.97 Z\" fill=\"#000000\" fill-rule=\"nonzero\" fill-opacity=\"1\" /><path clip-path=\"url(#clip360)\" d=\"M1766.04 1514.29 L1788.26 1514.29 L1788.26 1516.28 L1775.72 1548.85 L1770.83 1548.85 L1782.64 1518.22 L1766.04 1518.22 L1766.04 1514.29 Z\" fill=\"#000000\" fill-rule=\"nonzero\" fill-opacity=\"1\" /><path clip-path=\"url(#clip360)\" d=\"M1797.43 1514.29 L1815.78 1514.29 L1815.78 1518.22 L1801.71 1518.22 L1801.71 1526.7 Q1802.73 1526.35 1803.75 1526.19 Q1804.77 1526 1805.79 1526 Q1811.57 1526 1814.95 1529.17 Q1818.33 1532.34 1818.33 1537.76 Q1818.33 1543.34 1814.86 1546.44 Q1811.39 1549.52 1805.07 1549.52 Q1802.89 1549.52 1800.62 1549.15 Q1798.38 1548.78 1795.97 1548.04 L1795.97 1543.34 Q1798.05 1544.47 1800.28 1545.03 Q1802.5 1545.58 1804.97 1545.58 Q1808.98 1545.58 1811.32 1543.48 Q1813.66 1541.37 1813.66 1537.76 Q1813.66 1534.15 1811.32 1532.04 Q1808.98 1529.94 1804.97 1529.94 Q1803.1 1529.94 1801.22 1530.35 Q1799.37 1530.77 1797.43 1531.65 L1797.43 1514.29 Z\" fill=\"#000000\" fill-rule=\"nonzero\" fill-opacity=\"1\" /><path clip-path=\"url(#clip360)\" d=\"M2246.5 1544.91 L2262.82 1544.91 L2262.82 1548.85 L2240.88 1548.85 L2240.88 1544.91 Q2243.54 1542.16 2248.12 1537.53 Q2252.73 1532.88 2253.91 1531.53 Q2256.15 1529.01 2257.03 1527.27 Q2257.94 1525.51 2257.94 1523.82 Q2257.94 1521.07 2255.99 1519.33 Q2254.07 1517.6 2250.97 1517.6 Q2248.77 1517.6 2246.31 1518.36 Q2243.88 1519.13 2241.11 1520.68 L2241.11 1515.95 Q2243.93 1514.82 2246.38 1514.24 Q2248.84 1513.66 2250.87 1513.66 Q2256.25 1513.66 2259.44 1516.35 Q2262.63 1519.03 2262.63 1523.52 Q2262.63 1525.65 2261.82 1527.57 Q2261.04 1529.47 2258.93 1532.07 Q2258.35 1532.74 2255.25 1535.95 Q2252.15 1539.15 2246.5 1544.91 Z\" fill=\"#000000\" fill-rule=\"nonzero\" fill-opacity=\"1\" /><path clip-path=\"url(#clip360)\" d=\"M2272.63 1542.97 L2277.52 1542.97 L2277.52 1548.85 L2272.63 1548.85 L2272.63 1542.97 Z\" fill=\"#000000\" fill-rule=\"nonzero\" fill-opacity=\"1\" /><path clip-path=\"url(#clip360)\" d=\"M2297.7 1517.37 Q2294.09 1517.37 2292.26 1520.93 Q2290.46 1524.47 2290.46 1531.6 Q2290.46 1538.71 2292.26 1542.27 Q2294.09 1545.82 2297.7 1545.82 Q2301.34 1545.82 2303.14 1542.27 Q2304.97 1538.71 2304.97 1531.6 Q2304.97 1524.47 2303.14 1520.93 Q2301.34 1517.37 2297.7 1517.37 M2297.7 1513.66 Q2303.51 1513.66 2306.57 1518.27 Q2309.65 1522.85 2309.65 1531.6 Q2309.65 1540.33 2306.57 1544.94 Q2303.51 1549.52 2297.7 1549.52 Q2291.89 1549.52 2288.81 1544.94 Q2285.76 1540.33 2285.76 1531.6 Q2285.76 1522.85 2288.81 1518.27 Q2291.89 1513.66 2297.7 1513.66 Z\" fill=\"#000000\" fill-rule=\"nonzero\" fill-opacity=\"1\" /><path clip-path=\"url(#clip360)\" d=\"M2327.87 1517.37 Q2324.25 1517.37 2322.43 1520.93 Q2320.62 1524.47 2320.62 1531.6 Q2320.62 1538.71 2322.43 1542.27 Q2324.25 1545.82 2327.87 1545.82 Q2331.5 1545.82 2333.31 1542.27 Q2335.13 1538.71 2335.13 1531.6 Q2335.13 1524.47 2333.31 1520.93 Q2331.5 1517.37 2327.87 1517.37 M2327.87 1513.66 Q2333.68 1513.66 2336.73 1518.27 Q2339.81 1522.85 2339.81 1531.6 Q2339.81 1540.33 2336.73 1544.94 Q2333.68 1549.52 2327.87 1549.52 Q2322.06 1549.52 2318.98 1544.94 Q2315.92 1540.33 2315.92 1531.6 Q2315.92 1522.85 2318.98 1518.27 Q2322.06 1513.66 2327.87 1513.66 Z\" fill=\"#000000\" fill-rule=\"nonzero\" fill-opacity=\"1\" /><polyline clip-path=\"url(#clip362)\" style=\"stroke:#000000; stroke-linecap:round; stroke-linejoin:round; stroke-width:2; stroke-opacity:0.1; fill:none\" points=\"147.478,1486.45 2352.76,1486.45 \"/>\n",
       "<polyline clip-path=\"url(#clip362)\" style=\"stroke:#000000; stroke-linecap:round; stroke-linejoin:round; stroke-width:2; stroke-opacity:0.1; fill:none\" points=\"147.478,1126.65 2352.76,1126.65 \"/>\n",
       "<polyline clip-path=\"url(#clip362)\" style=\"stroke:#000000; stroke-linecap:round; stroke-linejoin:round; stroke-width:2; stroke-opacity:0.1; fill:none\" points=\"147.478,766.846 2352.76,766.846 \"/>\n",
       "<polyline clip-path=\"url(#clip362)\" style=\"stroke:#000000; stroke-linecap:round; stroke-linejoin:round; stroke-width:2; stroke-opacity:0.1; fill:none\" points=\"147.478,407.045 2352.76,407.045 \"/>\n",
       "<polyline clip-path=\"url(#clip362)\" style=\"stroke:#000000; stroke-linecap:round; stroke-linejoin:round; stroke-width:2; stroke-opacity:0.1; fill:none\" points=\"147.478,47.2441 2352.76,47.2441 \"/>\n",
       "<polyline clip-path=\"url(#clip360)\" style=\"stroke:#000000; stroke-linecap:round; stroke-linejoin:round; stroke-width:4; stroke-opacity:1; fill:none\" points=\"147.478,1486.45 147.478,47.2441 \"/>\n",
       "<polyline clip-path=\"url(#clip360)\" style=\"stroke:#000000; stroke-linecap:round; stroke-linejoin:round; stroke-width:4; stroke-opacity:1; fill:none\" points=\"147.478,1486.45 166.376,1486.45 \"/>\n",
       "<polyline clip-path=\"url(#clip360)\" style=\"stroke:#000000; stroke-linecap:round; stroke-linejoin:round; stroke-width:4; stroke-opacity:1; fill:none\" points=\"147.478,1126.65 166.376,1126.65 \"/>\n",
       "<polyline clip-path=\"url(#clip360)\" style=\"stroke:#000000; stroke-linecap:round; stroke-linejoin:round; stroke-width:4; stroke-opacity:1; fill:none\" points=\"147.478,766.846 166.376,766.846 \"/>\n",
       "<polyline clip-path=\"url(#clip360)\" style=\"stroke:#000000; stroke-linecap:round; stroke-linejoin:round; stroke-width:4; stroke-opacity:1; fill:none\" points=\"147.478,407.045 166.376,407.045 \"/>\n",
       "<polyline clip-path=\"url(#clip360)\" style=\"stroke:#000000; stroke-linecap:round; stroke-linejoin:round; stroke-width:4; stroke-opacity:1; fill:none\" points=\"147.478,47.2441 166.376,47.2441 \"/>\n",
       "<path clip-path=\"url(#clip360)\" d=\"M51.3625 1486.9 L81.0383 1486.9 L81.0383 1490.83 L51.3625 1490.83 L51.3625 1486.9 Z\" fill=\"#000000\" fill-rule=\"nonzero\" fill-opacity=\"1\" /><path clip-path=\"url(#clip360)\" d=\"M95.1586 1499.79 L111.478 1499.79 L111.478 1503.73 L89.5336 1503.73 L89.5336 1499.79 Q92.1956 1497.04 96.7789 1492.41 Q101.385 1487.76 102.566 1486.41 Q104.811 1483.89 105.691 1482.15 Q106.594 1480.39 106.594 1478.7 Q106.594 1475.95 104.649 1474.21 Q102.728 1472.48 99.6261 1472.48 Q97.4271 1472.48 94.9734 1473.24 Q92.5428 1474.01 89.7651 1475.56 L89.7651 1470.83 Q92.5891 1469.7 95.0428 1469.12 Q97.4965 1468.54 99.5335 1468.54 Q104.904 1468.54 108.098 1471.23 Q111.293 1473.91 111.293 1478.4 Q111.293 1480.53 110.483 1482.45 Q109.696 1484.35 107.589 1486.95 Q107.01 1487.62 103.909 1490.83 Q100.807 1494.03 95.1586 1499.79 Z\" fill=\"#000000\" fill-rule=\"nonzero\" fill-opacity=\"1\" /><path clip-path=\"url(#clip360)\" d=\"M50.9921 1127.1 L80.6679 1127.1 L80.6679 1131.03 L50.9921 1131.03 L50.9921 1127.1 Z\" fill=\"#000000\" fill-rule=\"nonzero\" fill-opacity=\"1\" /><path clip-path=\"url(#clip360)\" d=\"M91.5706 1139.99 L99.2095 1139.99 L99.2095 1113.63 L90.8993 1115.29 L90.8993 1111.03 L99.1632 1109.37 L103.839 1109.37 L103.839 1139.99 L111.478 1139.99 L111.478 1143.93 L91.5706 1143.93 L91.5706 1139.99 Z\" fill=\"#000000\" fill-rule=\"nonzero\" fill-opacity=\"1\" /><path clip-path=\"url(#clip360)\" d=\"M99.5335 752.645 Q95.9224 752.645 94.0937 756.209 Q92.2882 759.751 92.2882 766.881 Q92.2882 773.987 94.0937 777.552 Q95.9224 781.094 99.5335 781.094 Q103.168 781.094 104.973 777.552 Q106.802 773.987 106.802 766.881 Q106.802 759.751 104.973 756.209 Q103.168 752.645 99.5335 752.645 M99.5335 748.941 Q105.344 748.941 108.399 753.547 Q111.478 758.131 111.478 766.881 Q111.478 775.608 108.399 780.214 Q105.344 784.797 99.5335 784.797 Q93.7234 784.797 90.6447 780.214 Q87.5892 775.608 87.5892 766.881 Q87.5892 758.131 90.6447 753.547 Q93.7234 748.941 99.5335 748.941 Z\" fill=\"#000000\" fill-rule=\"nonzero\" fill-opacity=\"1\" /><path clip-path=\"url(#clip360)\" d=\"M91.5706 420.39 L99.2095 420.39 L99.2095 394.024 L90.8993 395.691 L90.8993 391.432 L99.1632 389.765 L103.839 389.765 L103.839 420.39 L111.478 420.39 L111.478 424.325 L91.5706 424.325 L91.5706 420.39 Z\" fill=\"#000000\" fill-rule=\"nonzero\" fill-opacity=\"1\" /><path clip-path=\"url(#clip360)\" d=\"M95.1586 60.5889 L111.478 60.5889 L111.478 64.5241 L89.5336 64.5241 L89.5336 60.5889 Q92.1956 57.8343 96.7789 53.2047 Q101.385 48.552 102.566 47.2094 Q104.811 44.6862 105.691 42.9501 Q106.594 41.1909 106.594 39.5011 Q106.594 36.7465 104.649 35.0104 Q102.728 33.2743 99.6261 33.2743 Q97.4271 33.2743 94.9734 34.0381 Q92.5428 34.802 89.7651 36.3529 L89.7651 31.6308 Q92.5891 30.4965 95.0428 29.9178 Q97.4965 29.3391 99.5335 29.3391 Q104.904 29.3391 108.098 32.0243 Q111.293 34.7094 111.293 39.2002 Q111.293 41.3298 110.483 43.2511 Q109.696 45.1492 107.589 47.7418 Q107.01 48.4131 103.909 51.6306 Q100.807 54.8251 95.1586 60.5889 Z\" fill=\"#000000\" fill-rule=\"nonzero\" fill-opacity=\"1\" /><polyline clip-path=\"url(#clip362)\" style=\"stroke:#e26f46; stroke-linecap:round; stroke-linejoin:round; stroke-width:4; stroke-opacity:1; fill:none\" points=\"-2057.8,654.242 4558.03,654.242 \"/>\n",
       "<path clip-path=\"url(#clip360)\" d=\"M1820.78 250.738 L2279.25 250.738 L2279.25 95.2176 L1820.78 95.2176  Z\" fill=\"#ffffff\" fill-rule=\"evenodd\" fill-opacity=\"1\"/>\n",
       "<polyline clip-path=\"url(#clip360)\" style=\"stroke:#000000; stroke-linecap:round; stroke-linejoin:round; stroke-width:4; stroke-opacity:1; fill:none\" points=\"1820.78,250.738 2279.25,250.738 2279.25,95.2176 1820.78,95.2176 1820.78,250.738 \"/>\n",
       "<polyline clip-path=\"url(#clip360)\" style=\"stroke:#009af9; stroke-linecap:round; stroke-linejoin:round; stroke-width:4; stroke-opacity:1; fill:none\" points=\"1845.28,147.058 1992.3,147.058 \"/>\n",
       "<path clip-path=\"url(#clip360)\" d=\"M2033.19 148.134 Q2034.7 148.643 2036.11 150.31 Q2037.55 151.977 2038.98 154.893 L2043.73 164.338 L2038.7 164.338 L2034.28 155.472 Q2032.57 152 2030.95 150.865 Q2029.35 149.731 2026.57 149.731 L2021.48 149.731 L2021.48 164.338 L2016.81 164.338 L2016.81 129.778 L2027.36 129.778 Q2033.29 129.778 2036.2 132.254 Q2039.12 134.731 2039.12 139.731 Q2039.12 142.995 2037.59 145.148 Q2036.09 147.301 2033.19 148.134 M2021.48 133.62 L2021.48 145.889 L2027.36 145.889 Q2030.74 145.889 2032.45 144.338 Q2034.19 142.764 2034.19 139.731 Q2034.19 136.699 2032.45 135.171 Q2030.74 133.62 2027.36 133.62 L2021.48 133.62 Z\" fill=\"#000000\" fill-rule=\"nonzero\" fill-opacity=\"1\" /><path clip-path=\"url(#clip360)\" d=\"M2069.61 150.31 L2069.61 152.393 L2050.02 152.393 Q2050.3 156.791 2052.66 159.106 Q2055.05 161.398 2059.28 161.398 Q2061.74 161.398 2064.03 160.796 Q2066.34 160.194 2068.61 158.99 L2068.61 163.018 Q2066.32 163.99 2063.91 164.5 Q2061.5 165.009 2059.03 165.009 Q2052.82 165.009 2049.19 161.398 Q2045.58 157.787 2045.58 151.629 Q2045.58 145.264 2049 141.537 Q2052.45 137.787 2058.29 137.787 Q2063.52 137.787 2066.55 141.166 Q2069.61 144.523 2069.61 150.31 M2065.35 149.06 Q2065.3 145.565 2063.38 143.481 Q2061.48 141.398 2058.33 141.398 Q2054.77 141.398 2052.62 143.412 Q2050.49 145.426 2050.16 149.083 L2065.35 149.06 Z\" fill=\"#000000\" fill-rule=\"nonzero\" fill-opacity=\"1\" /><path clip-path=\"url(#clip360)\" d=\"M2088.38 151.305 Q2083.22 151.305 2081.23 152.486 Q2079.24 153.666 2079.24 156.514 Q2079.24 158.782 2080.72 160.125 Q2082.22 161.444 2084.79 161.444 Q2088.33 161.444 2090.46 158.944 Q2092.61 156.421 2092.61 152.254 L2092.61 151.305 L2088.38 151.305 M2096.87 149.546 L2096.87 164.338 L2092.61 164.338 L2092.61 160.402 Q2091.16 162.763 2088.98 163.898 Q2086.8 165.009 2083.66 165.009 Q2079.68 165.009 2077.31 162.787 Q2074.98 160.541 2074.98 156.791 Q2074.98 152.416 2077.89 150.194 Q2080.83 147.972 2086.64 147.972 L2092.61 147.972 L2092.61 147.555 Q2092.61 144.615 2090.67 143.018 Q2088.75 141.398 2085.25 141.398 Q2083.03 141.398 2080.93 141.93 Q2078.82 142.463 2076.87 143.527 L2076.87 139.592 Q2079.21 138.69 2081.41 138.25 Q2083.61 137.787 2085.69 137.787 Q2091.32 137.787 2094.1 140.703 Q2096.87 143.62 2096.87 149.546 Z\" fill=\"#000000\" fill-rule=\"nonzero\" fill-opacity=\"1\" /><path clip-path=\"url(#clip360)\" d=\"M2105.65 128.319 L2109.91 128.319 L2109.91 164.338 L2105.65 164.338 L2105.65 128.319 Z\" fill=\"#000000\" fill-rule=\"nonzero\" fill-opacity=\"1\" /><path clip-path=\"url(#clip360)\" d=\"M2150.42 139.176 L2150.42 143.203 Q2148.61 142.277 2146.67 141.815 Q2144.72 141.352 2142.64 141.352 Q2139.47 141.352 2137.87 142.324 Q2136.3 143.296 2136.3 145.24 Q2136.3 146.722 2137.43 147.578 Q2138.56 148.412 2141.99 149.176 L2143.45 149.5 Q2147.98 150.472 2149.88 152.254 Q2151.8 154.014 2151.8 157.185 Q2151.8 160.796 2148.93 162.902 Q2146.09 165.009 2141.09 165.009 Q2139 165.009 2136.73 164.592 Q2134.49 164.199 2131.99 163.388 L2131.99 158.99 Q2134.35 160.217 2136.64 160.842 Q2138.93 161.444 2141.18 161.444 Q2144.19 161.444 2145.81 160.426 Q2147.43 159.384 2147.43 157.509 Q2147.43 155.773 2146.25 154.847 Q2145.09 153.921 2141.13 153.064 L2139.65 152.717 Q2135.69 151.884 2133.93 150.171 Q2132.17 148.435 2132.17 145.426 Q2132.17 141.768 2134.77 139.778 Q2137.36 137.787 2142.13 137.787 Q2144.49 137.787 2146.57 138.134 Q2148.66 138.481 2150.42 139.176 Z\" fill=\"#000000\" fill-rule=\"nonzero\" fill-opacity=\"1\" /><path clip-path=\"url(#clip360)\" d=\"M2162.8 131.051 L2162.8 138.412 L2171.57 138.412 L2171.57 141.722 L2162.8 141.722 L2162.8 155.796 Q2162.8 158.967 2163.66 159.87 Q2164.54 160.773 2167.2 160.773 L2171.57 160.773 L2171.57 164.338 L2167.2 164.338 Q2162.27 164.338 2160.39 162.509 Q2158.52 160.657 2158.52 155.796 L2158.52 141.722 L2155.39 141.722 L2155.39 138.412 L2158.52 138.412 L2158.52 131.051 L2162.8 131.051 Z\" fill=\"#000000\" fill-rule=\"nonzero\" fill-opacity=\"1\" /><path clip-path=\"url(#clip360)\" d=\"M2188.96 151.305 Q2183.79 151.305 2181.8 152.486 Q2179.81 153.666 2179.81 156.514 Q2179.81 158.782 2181.29 160.125 Q2182.8 161.444 2185.37 161.444 Q2188.91 161.444 2191.04 158.944 Q2193.19 156.421 2193.19 152.254 L2193.19 151.305 L2188.96 151.305 M2197.45 149.546 L2197.45 164.338 L2193.19 164.338 L2193.19 160.402 Q2191.73 162.763 2189.56 163.898 Q2187.38 165.009 2184.23 165.009 Q2180.25 165.009 2177.89 162.787 Q2175.55 160.541 2175.55 156.791 Q2175.55 152.416 2178.47 150.194 Q2181.41 147.972 2187.22 147.972 L2193.19 147.972 L2193.19 147.555 Q2193.19 144.615 2191.25 143.018 Q2189.33 141.398 2185.83 141.398 Q2183.61 141.398 2181.5 141.93 Q2179.4 142.463 2177.45 143.527 L2177.45 139.592 Q2179.79 138.69 2181.99 138.25 Q2184.19 137.787 2186.27 137.787 Q2191.9 137.787 2194.67 140.703 Q2197.45 143.62 2197.45 149.546 Z\" fill=\"#000000\" fill-rule=\"nonzero\" fill-opacity=\"1\" /><path clip-path=\"url(#clip360)\" d=\"M2210.44 131.051 L2210.44 138.412 L2219.21 138.412 L2219.21 141.722 L2210.44 141.722 L2210.44 155.796 Q2210.44 158.967 2211.29 159.87 Q2212.17 160.773 2214.84 160.773 L2219.21 160.773 L2219.21 164.338 L2214.84 164.338 Q2209.91 164.338 2208.03 162.509 Q2206.16 160.657 2206.16 155.796 L2206.16 141.722 L2203.03 141.722 L2203.03 138.412 L2206.16 138.412 L2206.16 131.051 L2210.44 131.051 Z\" fill=\"#000000\" fill-rule=\"nonzero\" fill-opacity=\"1\" /><path clip-path=\"url(#clip360)\" d=\"M2246.99 150.31 L2246.99 152.393 L2227.41 152.393 Q2227.68 156.791 2230.04 159.106 Q2232.43 161.398 2236.66 161.398 Q2239.12 161.398 2241.41 160.796 Q2243.73 160.194 2245.99 158.99 L2245.99 163.018 Q2243.7 163.99 2241.29 164.5 Q2238.89 165.009 2236.41 165.009 Q2230.21 165.009 2226.57 161.398 Q2222.96 157.787 2222.96 151.629 Q2222.96 145.264 2226.39 141.537 Q2229.84 137.787 2235.67 137.787 Q2240.9 137.787 2243.93 141.166 Q2246.99 144.523 2246.99 150.31 M2242.73 149.06 Q2242.68 145.565 2240.76 143.481 Q2238.86 141.398 2235.72 141.398 Q2232.15 141.398 2230 143.412 Q2227.87 145.426 2227.54 149.083 L2242.73 149.06 Z\" fill=\"#000000\" fill-rule=\"nonzero\" fill-opacity=\"1\" /><polyline clip-path=\"url(#clip360)\" style=\"stroke:#e26f46; stroke-linecap:round; stroke-linejoin:round; stroke-width:4; stroke-opacity:1; fill:none\" points=\"1845.28,198.898 1992.3,198.898 \"/>\n",
       "<path clip-path=\"url(#clip360)\" d=\"M2042.36 211.247 L2042.36 201.965 L2034.72 201.965 L2034.72 198.122 L2046.99 198.122 L2046.99 212.96 Q2044.28 214.881 2041.02 215.877 Q2037.75 216.849 2034.05 216.849 Q2025.95 216.849 2021.37 212.127 Q2016.81 207.381 2016.81 198.932 Q2016.81 190.46 2021.37 185.738 Q2025.95 180.993 2034.05 180.993 Q2037.43 180.993 2040.46 181.826 Q2043.52 182.659 2046.09 184.28 L2046.09 189.256 Q2043.49 187.057 2040.58 185.946 Q2037.66 184.835 2034.44 184.835 Q2028.1 184.835 2024.91 188.377 Q2021.74 191.918 2021.74 198.932 Q2021.74 205.923 2024.91 209.465 Q2028.1 213.006 2034.44 213.006 Q2036.92 213.006 2038.87 212.59 Q2040.81 212.15 2042.36 211.247 Z\" fill=\"#000000\" fill-rule=\"nonzero\" fill-opacity=\"1\" /><path clip-path=\"url(#clip360)\" d=\"M2065.39 193.238 Q2061.97 193.238 2059.98 195.923 Q2057.99 198.585 2057.99 203.238 Q2057.99 207.891 2059.95 210.576 Q2061.94 213.238 2065.39 213.238 Q2068.8 213.238 2070.79 210.553 Q2072.78 207.867 2072.78 203.238 Q2072.78 198.631 2070.79 195.946 Q2068.8 193.238 2065.39 193.238 M2065.39 189.627 Q2070.95 189.627 2074.12 193.238 Q2077.29 196.849 2077.29 203.238 Q2077.29 209.604 2074.12 213.238 Q2070.95 216.849 2065.39 216.849 Q2059.81 216.849 2056.64 213.238 Q2053.49 209.604 2053.49 203.238 Q2053.49 196.849 2056.64 193.238 Q2059.81 189.627 2065.39 189.627 Z\" fill=\"#000000\" fill-rule=\"nonzero\" fill-opacity=\"1\" /><path clip-path=\"url(#clip360)\" d=\"M2096.13 203.145 Q2090.97 203.145 2088.98 204.326 Q2086.99 205.506 2086.99 208.354 Q2086.99 210.622 2088.47 211.965 Q2089.98 213.284 2092.55 213.284 Q2096.09 213.284 2098.22 210.784 Q2100.37 208.261 2100.37 204.094 L2100.37 203.145 L2096.13 203.145 M2104.63 201.386 L2104.63 216.178 L2100.37 216.178 L2100.37 212.242 Q2098.91 214.603 2096.74 215.738 Q2094.56 216.849 2091.41 216.849 Q2087.43 216.849 2085.07 214.627 Q2082.73 212.381 2082.73 208.631 Q2082.73 204.256 2085.65 202.034 Q2088.59 199.812 2094.4 199.812 L2100.37 199.812 L2100.37 199.395 Q2100.37 196.455 2098.42 194.858 Q2096.5 193.238 2093.01 193.238 Q2090.79 193.238 2088.68 193.77 Q2086.57 194.303 2084.63 195.367 L2084.63 191.432 Q2086.97 190.53 2089.17 190.09 Q2091.36 189.627 2093.45 189.627 Q2099.07 189.627 2101.85 192.543 Q2104.63 195.46 2104.63 201.386 Z\" fill=\"#000000\" fill-rule=\"nonzero\" fill-opacity=\"1\" /><path clip-path=\"url(#clip360)\" d=\"M2113.4 180.159 L2117.66 180.159 L2117.66 216.178 L2113.4 216.178 L2113.4 180.159 Z\" fill=\"#000000\" fill-rule=\"nonzero\" fill-opacity=\"1\" /><path clip-path=\"url(#clip360)\" d=\"M2158.17 191.016 L2158.17 195.043 Q2156.36 194.117 2154.42 193.655 Q2152.48 193.192 2150.39 193.192 Q2147.22 193.192 2145.62 194.164 Q2144.05 195.136 2144.05 197.08 Q2144.05 198.562 2145.18 199.418 Q2146.32 200.252 2149.74 201.016 L2151.2 201.34 Q2155.74 202.312 2157.64 204.094 Q2159.56 205.854 2159.56 209.025 Q2159.56 212.636 2156.69 214.742 Q2153.84 216.849 2148.84 216.849 Q2146.76 216.849 2144.49 216.432 Q2142.24 216.039 2139.74 215.228 L2139.74 210.83 Q2142.11 212.057 2144.4 212.682 Q2146.69 213.284 2148.93 213.284 Q2151.94 213.284 2153.56 212.266 Q2155.18 211.224 2155.18 209.349 Q2155.18 207.613 2154 206.687 Q2152.85 205.761 2148.89 204.904 L2147.41 204.557 Q2143.45 203.724 2141.69 202.011 Q2139.93 200.275 2139.93 197.266 Q2139.93 193.608 2142.52 191.618 Q2145.11 189.627 2149.88 189.627 Q2152.24 189.627 2154.33 189.974 Q2156.41 190.321 2158.17 191.016 Z\" fill=\"#000000\" fill-rule=\"nonzero\" fill-opacity=\"1\" /><path clip-path=\"url(#clip360)\" d=\"M2170.55 182.891 L2170.55 190.252 L2179.33 190.252 L2179.33 193.562 L2170.55 193.562 L2170.55 207.636 Q2170.55 210.807 2171.41 211.71 Q2172.29 212.613 2174.95 212.613 L2179.33 212.613 L2179.33 216.178 L2174.95 216.178 Q2170.02 216.178 2168.15 214.349 Q2166.27 212.497 2166.27 207.636 L2166.27 193.562 L2163.15 193.562 L2163.15 190.252 L2166.27 190.252 L2166.27 182.891 L2170.55 182.891 Z\" fill=\"#000000\" fill-rule=\"nonzero\" fill-opacity=\"1\" /><path clip-path=\"url(#clip360)\" d=\"M2196.71 203.145 Q2191.55 203.145 2189.56 204.326 Q2187.57 205.506 2187.57 208.354 Q2187.57 210.622 2189.05 211.965 Q2190.55 213.284 2193.12 213.284 Q2196.67 213.284 2198.79 210.784 Q2200.95 208.261 2200.95 204.094 L2200.95 203.145 L2196.71 203.145 M2205.21 201.386 L2205.21 216.178 L2200.95 216.178 L2200.95 212.242 Q2199.49 214.603 2197.31 215.738 Q2195.14 216.849 2191.99 216.849 Q2188.01 216.849 2185.65 214.627 Q2183.31 212.381 2183.31 208.631 Q2183.31 204.256 2186.23 202.034 Q2189.17 199.812 2194.98 199.812 L2200.95 199.812 L2200.95 199.395 Q2200.95 196.455 2199 194.858 Q2197.08 193.238 2193.59 193.238 Q2191.36 193.238 2189.26 193.77 Q2187.15 194.303 2185.21 195.367 L2185.21 191.432 Q2187.54 190.53 2189.74 190.09 Q2191.94 189.627 2194.03 189.627 Q2199.65 189.627 2202.43 192.543 Q2205.21 195.46 2205.21 201.386 Z\" fill=\"#000000\" fill-rule=\"nonzero\" fill-opacity=\"1\" /><path clip-path=\"url(#clip360)\" d=\"M2218.19 182.891 L2218.19 190.252 L2226.97 190.252 L2226.97 193.562 L2218.19 193.562 L2218.19 207.636 Q2218.19 210.807 2219.05 211.71 Q2219.93 212.613 2222.59 212.613 L2226.97 212.613 L2226.97 216.178 L2222.59 216.178 Q2217.66 216.178 2215.79 214.349 Q2213.91 212.497 2213.91 207.636 L2213.91 193.562 L2210.79 193.562 L2210.79 190.252 L2213.91 190.252 L2213.91 182.891 L2218.19 182.891 Z\" fill=\"#000000\" fill-rule=\"nonzero\" fill-opacity=\"1\" /><path clip-path=\"url(#clip360)\" d=\"M2254.74 202.15 L2254.74 204.233 L2235.16 204.233 Q2235.44 208.631 2237.8 210.946 Q2240.18 213.238 2244.42 213.238 Q2246.87 213.238 2249.16 212.636 Q2251.48 212.034 2253.75 210.83 L2253.75 214.858 Q2251.46 215.83 2249.05 216.34 Q2246.64 216.849 2244.16 216.849 Q2237.96 216.849 2234.33 213.238 Q2230.72 209.627 2230.72 203.469 Q2230.72 197.104 2234.14 193.377 Q2237.59 189.627 2243.42 189.627 Q2248.66 189.627 2251.69 193.006 Q2254.74 196.363 2254.74 202.15 M2250.48 200.9 Q2250.44 197.405 2248.52 195.321 Q2246.62 193.238 2243.47 193.238 Q2239.91 193.238 2237.75 195.252 Q2235.62 197.266 2235.3 200.923 L2250.48 200.9 Z\" fill=\"#000000\" fill-rule=\"nonzero\" fill-opacity=\"1\" /></svg>\n"
      ]
     },
     "metadata": {},
     "output_type": "display_data"
    },
    {
     "data": {
      "text/plain": [
       "SubjectSubscription()"
      ]
     },
     "execution_count": 17,
     "metadata": {},
     "output_type": "execute_result"
    }
   ],
   "source": [
    "plot_subscription = subscribe!(environment.events, PlotActor())"
   ]
  },
  {
   "cell_type": "markdown",
   "metadata": {},
   "source": [
    "As is, the action/perception loop will run indefinitely. To stop it, we can cancel our subscriptions so we don't fill the goal priors. While they remain unfulfilled, we wont trigger a new cycle of message passing"
   ]
  },
  {
   "cell_type": "code",
   "execution_count": 18,
   "metadata": {},
   "outputs": [],
   "source": [
    "unsubscribe!(timer_subscription)\n",
    "unsubscribe!(goals_subscription)\n",
    "unsubscribe!(plot_subscription)\n",
    "IJulia.clear_output(false);"
   ]
  }
 ],
 "metadata": {
  "@webio": {
   "lastCommId": null,
   "lastKernelId": null
  },
  "kernelspec": {
   "display_name": "Julia 1.8.3",
   "language": "julia",
   "name": "julia-1.8"
  },
  "language_info": {
   "file_extension": ".jl",
   "mimetype": "application/julia",
   "name": "julia",
   "version": "1.8.3"
  }
 },
 "nbformat": 4,
 "nbformat_minor": 4
}
